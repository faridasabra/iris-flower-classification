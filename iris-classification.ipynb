{
 "cells": [
  {
   "cell_type": "markdown",
   "id": "969b6589",
   "metadata": {
    "papermill": {
     "duration": 0.012188,
     "end_time": "2025-07-28T01:06:41.747427",
     "exception": false,
     "start_time": "2025-07-28T01:06:41.735239",
     "status": "completed"
    },
    "tags": []
   },
   "source": [
    "# Iris Flower Classification\n",
    "\n",
    "## About the Dataset\n",
    "\n",
    "### Context\n",
    "The Iris flower dataset is a classic multivariate dataset introduced by the British statistician and biologist **Ronald Fisher** in his 1936 paper, *\"The use of multiple measurements in taxonomic problems.\"* Often referred to as **Anderson's Iris dataset**, it was designed to quantify the morphological variations among three related Iris species:\n",
    "\n",
    "- **Iris setosa**\n",
    "- **Iris versicolor**\n",
    "- **Iris virginica**\n",
    "\n",
    "The dataset consists of **150 samples** (50 from each species) with four measured features for each flower:\n",
    "\n",
    "1. Sepal length (cm)\n",
    "2. Sepal width (cm)\n",
    "3. Petal length (cm)\n",
    "4. Petal width (cm)\n",
    "\n",
    "## Project Objective\n",
    "This project focuses on building and training a machine learning model to accurately classify Iris flowers into their respective species based on their sepal and petal measurements. The key steps include:\n",
    "\n",
    "1. **Exploratory Data Analysis (EDA)** – Understanding data distributions and relationships\n",
    "2. **Data Preprocessing** – Preparing the data for model training\n",
    "3. **Model Selection & Training** – Implementing and evaluating classification algorithms\n",
    "4. **Performance Evaluation** – Assessing accuracy and optimizing the model\n",
    "\n",
    "By the end of this project, we aim to develop a **reliable classifier** that can predict Iris species with high accuracy, demonstrating fundamental concepts in supervised machine learning.\n",
    "\n",
    "---\n",
    "\n",
    "### Dataset Features Summary\n",
    "| Feature | Description | Measurement |\n",
    "|---------|-------------|-------------|\n",
    "| Sepal Length | Length of flower sepal | cm |\n",
    "| Sepal Width | Width of flower sepal | cm |\n",
    "| Petal Length | Length of flower petal | cm |\n",
    "| Petal Width | Width of flower petal | cm |\n",
    "| Species | Target classification variable | Setosa/Versicolor/Virginica |"
   ]
  },
  {
   "cell_type": "markdown",
   "id": "b6885d39",
   "metadata": {
    "papermill": {
     "duration": 0.011571,
     "end_time": "2025-07-28T01:06:41.770026",
     "exception": false,
     "start_time": "2025-07-28T01:06:41.758455",
     "status": "completed"
    },
    "tags": []
   },
   "source": [
    "## **Part 1: Setup & Importing Libraries**"
   ]
  },
  {
   "cell_type": "code",
   "execution_count": 1,
   "id": "88607c00",
   "metadata": {
    "_cell_guid": "b1076dfc-b9ad-4769-8c92-a6c4dae69d19",
    "_uuid": "8f2839f25d086af736a60e9eeb907d3b93b6e0e5",
    "execution": {
     "iopub.execute_input": "2025-07-28T01:06:41.792952Z",
     "iopub.status.busy": "2025-07-28T01:06:41.792589Z",
     "iopub.status.idle": "2025-07-28T01:06:46.665530Z",
     "shell.execute_reply": "2025-07-28T01:06:46.664786Z"
    },
    "papermill": {
     "duration": 4.886389,
     "end_time": "2025-07-28T01:06:46.667227",
     "exception": false,
     "start_time": "2025-07-28T01:06:41.780838",
     "status": "completed"
    },
    "tags": []
   },
   "outputs": [],
   "source": [
    "# data processing & data wrangling\n",
    "import numpy as np\n",
    "import pandas as pd\n",
    "\n",
    "# visualization\n",
    "import matplotlib.pyplot as plt\n",
    "import seaborn as sns\n",
    "\n",
    "# evaluation metric libraries\n",
    "from sklearn.metrics import confusion_matrix, accuracy_score, precision_score, recall_score, f1_score, classification_report\n",
    "\n",
    "# data preprocessing\n",
    "from sklearn.preprocessing import LabelEncoder\n",
    "\n",
    "# model selection libraries\n",
    "from sklearn.model_selection import train_test_split, GridSearchCV, RandomizedSearchCV, RepeatedStratifiedKFold\n",
    "\n",
    "# ML Model implementation\n",
    "from sklearn.linear_model import LogisticRegression\n",
    "from sklearn.tree import DecisionTreeClassifier\n",
    "from sklearn.ensemble import RandomForestClassifier\n",
    "from sklearn.svm import SVC\n",
    "from sklearn.neural_network import MLPClassifier\n",
    "from sklearn.naive_bayes import GaussianNB\n",
    "from sklearn.neighbors import KNeighborsClassifier\n",
    "import xgboost as xgb\n",
    "\n",
    "import warnings\n",
    "warnings.filterwarnings('ignore')\n",
    "%matplotlib inline"
   ]
  },
  {
   "cell_type": "markdown",
   "id": "0eb7c3e9",
   "metadata": {
    "papermill": {
     "duration": 0.010736,
     "end_time": "2025-07-28T01:06:46.689583",
     "exception": false,
     "start_time": "2025-07-28T01:06:46.678847",
     "status": "completed"
    },
    "tags": []
   },
   "source": [
    "## **Part 2: Loading & Understanding The Data**"
   ]
  },
  {
   "cell_type": "code",
   "execution_count": 2,
   "id": "4f4014d0",
   "metadata": {
    "execution": {
     "iopub.execute_input": "2025-07-28T01:06:46.713746Z",
     "iopub.status.busy": "2025-07-28T01:06:46.713284Z",
     "iopub.status.idle": "2025-07-28T01:06:46.756270Z",
     "shell.execute_reply": "2025-07-28T01:06:46.755467Z"
    },
    "papermill": {
     "duration": 0.057268,
     "end_time": "2025-07-28T01:06:46.757765",
     "exception": false,
     "start_time": "2025-07-28T01:06:46.700497",
     "status": "completed"
    },
    "tags": []
   },
   "outputs": [
    {
     "data": {
      "text/html": [
       "<div>\n",
       "<style scoped>\n",
       "    .dataframe tbody tr th:only-of-type {\n",
       "        vertical-align: middle;\n",
       "    }\n",
       "\n",
       "    .dataframe tbody tr th {\n",
       "        vertical-align: top;\n",
       "    }\n",
       "\n",
       "    .dataframe thead th {\n",
       "        text-align: right;\n",
       "    }\n",
       "</style>\n",
       "<table border=\"1\" class=\"dataframe\">\n",
       "  <thead>\n",
       "    <tr style=\"text-align: right;\">\n",
       "      <th></th>\n",
       "      <th>sepal_length</th>\n",
       "      <th>sepal_width</th>\n",
       "      <th>petal_length</th>\n",
       "      <th>petal_width</th>\n",
       "      <th>species</th>\n",
       "    </tr>\n",
       "  </thead>\n",
       "  <tbody>\n",
       "    <tr>\n",
       "      <th>0</th>\n",
       "      <td>5.1</td>\n",
       "      <td>3.5</td>\n",
       "      <td>1.4</td>\n",
       "      <td>0.2</td>\n",
       "      <td>Iris-setosa</td>\n",
       "    </tr>\n",
       "    <tr>\n",
       "      <th>1</th>\n",
       "      <td>4.9</td>\n",
       "      <td>3.0</td>\n",
       "      <td>1.4</td>\n",
       "      <td>0.2</td>\n",
       "      <td>Iris-setosa</td>\n",
       "    </tr>\n",
       "    <tr>\n",
       "      <th>2</th>\n",
       "      <td>4.7</td>\n",
       "      <td>3.2</td>\n",
       "      <td>1.3</td>\n",
       "      <td>0.2</td>\n",
       "      <td>Iris-setosa</td>\n",
       "    </tr>\n",
       "    <tr>\n",
       "      <th>3</th>\n",
       "      <td>4.6</td>\n",
       "      <td>3.1</td>\n",
       "      <td>1.5</td>\n",
       "      <td>0.2</td>\n",
       "      <td>Iris-setosa</td>\n",
       "    </tr>\n",
       "    <tr>\n",
       "      <th>4</th>\n",
       "      <td>5.0</td>\n",
       "      <td>3.6</td>\n",
       "      <td>1.4</td>\n",
       "      <td>0.2</td>\n",
       "      <td>Iris-setosa</td>\n",
       "    </tr>\n",
       "  </tbody>\n",
       "</table>\n",
       "</div>"
      ],
      "text/plain": [
       "   sepal_length  sepal_width  petal_length  petal_width      species\n",
       "0           5.1          3.5           1.4          0.2  Iris-setosa\n",
       "1           4.9          3.0           1.4          0.2  Iris-setosa\n",
       "2           4.7          3.2           1.3          0.2  Iris-setosa\n",
       "3           4.6          3.1           1.5          0.2  Iris-setosa\n",
       "4           5.0          3.6           1.4          0.2  Iris-setosa"
      ]
     },
     "execution_count": 2,
     "metadata": {},
     "output_type": "execute_result"
    }
   ],
   "source": [
    "df = pd.read_csv(\"/kaggle/input/iris-flower-dataset/IRIS.csv\")\n",
    "df.head()"
   ]
  },
  {
   "cell_type": "code",
   "execution_count": 3,
   "id": "5337e9e3",
   "metadata": {
    "execution": {
     "iopub.execute_input": "2025-07-28T01:06:46.781947Z",
     "iopub.status.busy": "2025-07-28T01:06:46.781327Z",
     "iopub.status.idle": "2025-07-28T01:06:46.786447Z",
     "shell.execute_reply": "2025-07-28T01:06:46.785547Z"
    },
    "papermill": {
     "duration": 0.018646,
     "end_time": "2025-07-28T01:06:46.787885",
     "exception": false,
     "start_time": "2025-07-28T01:06:46.769239",
     "status": "completed"
    },
    "tags": []
   },
   "outputs": [
    {
     "name": "stdout",
     "output_type": "stream",
     "text": [
      "Number of rows are:  150\n",
      "Number of columns are:  5\n"
     ]
    }
   ],
   "source": [
    "print(\"Number of rows are: \",df.shape[0])\n",
    "print(\"Number of columns are: \",df.shape[1])"
   ]
  },
  {
   "cell_type": "markdown",
   "id": "d899f9ca",
   "metadata": {
    "papermill": {
     "duration": 0.010661,
     "end_time": "2025-07-28T01:06:46.809928",
     "exception": false,
     "start_time": "2025-07-28T01:06:46.799267",
     "status": "completed"
    },
    "tags": []
   },
   "source": [
    "###  **Key Statistics**"
   ]
  },
  {
   "cell_type": "code",
   "execution_count": 4,
   "id": "fd098158",
   "metadata": {
    "execution": {
     "iopub.execute_input": "2025-07-28T01:06:46.833066Z",
     "iopub.status.busy": "2025-07-28T01:06:46.832754Z",
     "iopub.status.idle": "2025-07-28T01:06:46.856339Z",
     "shell.execute_reply": "2025-07-28T01:06:46.855450Z"
    },
    "papermill": {
     "duration": 0.036861,
     "end_time": "2025-07-28T01:06:46.857772",
     "exception": false,
     "start_time": "2025-07-28T01:06:46.820911",
     "status": "completed"
    },
    "tags": []
   },
   "outputs": [
    {
     "data": {
      "text/html": [
       "<div>\n",
       "<style scoped>\n",
       "    .dataframe tbody tr th:only-of-type {\n",
       "        vertical-align: middle;\n",
       "    }\n",
       "\n",
       "    .dataframe tbody tr th {\n",
       "        vertical-align: top;\n",
       "    }\n",
       "\n",
       "    .dataframe thead th {\n",
       "        text-align: right;\n",
       "    }\n",
       "</style>\n",
       "<table border=\"1\" class=\"dataframe\">\n",
       "  <thead>\n",
       "    <tr style=\"text-align: right;\">\n",
       "      <th></th>\n",
       "      <th>sepal_length</th>\n",
       "      <th>sepal_width</th>\n",
       "      <th>petal_length</th>\n",
       "      <th>petal_width</th>\n",
       "    </tr>\n",
       "  </thead>\n",
       "  <tbody>\n",
       "    <tr>\n",
       "      <th>count</th>\n",
       "      <td>150.000000</td>\n",
       "      <td>150.000000</td>\n",
       "      <td>150.000000</td>\n",
       "      <td>150.000000</td>\n",
       "    </tr>\n",
       "    <tr>\n",
       "      <th>mean</th>\n",
       "      <td>5.843333</td>\n",
       "      <td>3.054000</td>\n",
       "      <td>3.758667</td>\n",
       "      <td>1.198667</td>\n",
       "    </tr>\n",
       "    <tr>\n",
       "      <th>std</th>\n",
       "      <td>0.828066</td>\n",
       "      <td>0.433594</td>\n",
       "      <td>1.764420</td>\n",
       "      <td>0.763161</td>\n",
       "    </tr>\n",
       "    <tr>\n",
       "      <th>min</th>\n",
       "      <td>4.300000</td>\n",
       "      <td>2.000000</td>\n",
       "      <td>1.000000</td>\n",
       "      <td>0.100000</td>\n",
       "    </tr>\n",
       "    <tr>\n",
       "      <th>25%</th>\n",
       "      <td>5.100000</td>\n",
       "      <td>2.800000</td>\n",
       "      <td>1.600000</td>\n",
       "      <td>0.300000</td>\n",
       "    </tr>\n",
       "    <tr>\n",
       "      <th>50%</th>\n",
       "      <td>5.800000</td>\n",
       "      <td>3.000000</td>\n",
       "      <td>4.350000</td>\n",
       "      <td>1.300000</td>\n",
       "    </tr>\n",
       "    <tr>\n",
       "      <th>75%</th>\n",
       "      <td>6.400000</td>\n",
       "      <td>3.300000</td>\n",
       "      <td>5.100000</td>\n",
       "      <td>1.800000</td>\n",
       "    </tr>\n",
       "    <tr>\n",
       "      <th>max</th>\n",
       "      <td>7.900000</td>\n",
       "      <td>4.400000</td>\n",
       "      <td>6.900000</td>\n",
       "      <td>2.500000</td>\n",
       "    </tr>\n",
       "  </tbody>\n",
       "</table>\n",
       "</div>"
      ],
      "text/plain": [
       "       sepal_length  sepal_width  petal_length  petal_width\n",
       "count    150.000000   150.000000    150.000000   150.000000\n",
       "mean       5.843333     3.054000      3.758667     1.198667\n",
       "std        0.828066     0.433594      1.764420     0.763161\n",
       "min        4.300000     2.000000      1.000000     0.100000\n",
       "25%        5.100000     2.800000      1.600000     0.300000\n",
       "50%        5.800000     3.000000      4.350000     1.300000\n",
       "75%        6.400000     3.300000      5.100000     1.800000\n",
       "max        7.900000     4.400000      6.900000     2.500000"
      ]
     },
     "execution_count": 4,
     "metadata": {},
     "output_type": "execute_result"
    }
   ],
   "source": [
    "df.describe()"
   ]
  },
  {
   "cell_type": "code",
   "execution_count": 5,
   "id": "96849cf0",
   "metadata": {
    "execution": {
     "iopub.execute_input": "2025-07-28T01:06:46.881426Z",
     "iopub.status.busy": "2025-07-28T01:06:46.881127Z",
     "iopub.status.idle": "2025-07-28T01:06:46.897345Z",
     "shell.execute_reply": "2025-07-28T01:06:46.896316Z"
    },
    "papermill": {
     "duration": 0.029673,
     "end_time": "2025-07-28T01:06:46.898758",
     "exception": false,
     "start_time": "2025-07-28T01:06:46.869085",
     "status": "completed"
    },
    "tags": []
   },
   "outputs": [
    {
     "name": "stdout",
     "output_type": "stream",
     "text": [
      "The number of duplicated rows are 3\n"
     ]
    }
   ],
   "source": [
    "duplic = df.duplicated().sum()\n",
    "print(f'The number of duplicated rows are {duplic}')"
   ]
  },
  {
   "cell_type": "code",
   "execution_count": 6,
   "id": "a61c3668",
   "metadata": {
    "execution": {
     "iopub.execute_input": "2025-07-28T01:06:46.922608Z",
     "iopub.status.busy": "2025-07-28T01:06:46.922314Z",
     "iopub.status.idle": "2025-07-28T01:06:46.939667Z",
     "shell.execute_reply": "2025-07-28T01:06:46.938920Z"
    },
    "papermill": {
     "duration": 0.030856,
     "end_time": "2025-07-28T01:06:46.940978",
     "exception": false,
     "start_time": "2025-07-28T01:06:46.910122",
     "status": "completed"
    },
    "tags": []
   },
   "outputs": [
    {
     "data": {
      "text/html": [
       "<div>\n",
       "<style scoped>\n",
       "    .dataframe tbody tr th:only-of-type {\n",
       "        vertical-align: middle;\n",
       "    }\n",
       "\n",
       "    .dataframe tbody tr th {\n",
       "        vertical-align: top;\n",
       "    }\n",
       "\n",
       "    .dataframe thead th {\n",
       "        text-align: right;\n",
       "    }\n",
       "</style>\n",
       "<table border=\"1\" class=\"dataframe\">\n",
       "  <thead>\n",
       "    <tr style=\"text-align: right;\">\n",
       "      <th></th>\n",
       "      <th>sepal_length</th>\n",
       "      <th>sepal_width</th>\n",
       "      <th>petal_length</th>\n",
       "      <th>petal_width</th>\n",
       "      <th>species</th>\n",
       "    </tr>\n",
       "  </thead>\n",
       "  <tbody>\n",
       "    <tr>\n",
       "      <th>0</th>\n",
       "      <td>5.1</td>\n",
       "      <td>3.5</td>\n",
       "      <td>1.4</td>\n",
       "      <td>0.2</td>\n",
       "      <td>Iris-setosa</td>\n",
       "    </tr>\n",
       "    <tr>\n",
       "      <th>1</th>\n",
       "      <td>4.9</td>\n",
       "      <td>3.0</td>\n",
       "      <td>1.4</td>\n",
       "      <td>0.2</td>\n",
       "      <td>Iris-setosa</td>\n",
       "    </tr>\n",
       "    <tr>\n",
       "      <th>2</th>\n",
       "      <td>4.7</td>\n",
       "      <td>3.2</td>\n",
       "      <td>1.3</td>\n",
       "      <td>0.2</td>\n",
       "      <td>Iris-setosa</td>\n",
       "    </tr>\n",
       "    <tr>\n",
       "      <th>3</th>\n",
       "      <td>4.6</td>\n",
       "      <td>3.1</td>\n",
       "      <td>1.5</td>\n",
       "      <td>0.2</td>\n",
       "      <td>Iris-setosa</td>\n",
       "    </tr>\n",
       "    <tr>\n",
       "      <th>4</th>\n",
       "      <td>5.0</td>\n",
       "      <td>3.6</td>\n",
       "      <td>1.4</td>\n",
       "      <td>0.2</td>\n",
       "      <td>Iris-setosa</td>\n",
       "    </tr>\n",
       "    <tr>\n",
       "      <th>...</th>\n",
       "      <td>...</td>\n",
       "      <td>...</td>\n",
       "      <td>...</td>\n",
       "      <td>...</td>\n",
       "      <td>...</td>\n",
       "    </tr>\n",
       "    <tr>\n",
       "      <th>145</th>\n",
       "      <td>6.7</td>\n",
       "      <td>3.0</td>\n",
       "      <td>5.2</td>\n",
       "      <td>2.3</td>\n",
       "      <td>Iris-virginica</td>\n",
       "    </tr>\n",
       "    <tr>\n",
       "      <th>146</th>\n",
       "      <td>6.3</td>\n",
       "      <td>2.5</td>\n",
       "      <td>5.0</td>\n",
       "      <td>1.9</td>\n",
       "      <td>Iris-virginica</td>\n",
       "    </tr>\n",
       "    <tr>\n",
       "      <th>147</th>\n",
       "      <td>6.5</td>\n",
       "      <td>3.0</td>\n",
       "      <td>5.2</td>\n",
       "      <td>2.0</td>\n",
       "      <td>Iris-virginica</td>\n",
       "    </tr>\n",
       "    <tr>\n",
       "      <th>148</th>\n",
       "      <td>6.2</td>\n",
       "      <td>3.4</td>\n",
       "      <td>5.4</td>\n",
       "      <td>2.3</td>\n",
       "      <td>Iris-virginica</td>\n",
       "    </tr>\n",
       "    <tr>\n",
       "      <th>149</th>\n",
       "      <td>5.9</td>\n",
       "      <td>3.0</td>\n",
       "      <td>5.1</td>\n",
       "      <td>1.8</td>\n",
       "      <td>Iris-virginica</td>\n",
       "    </tr>\n",
       "  </tbody>\n",
       "</table>\n",
       "<p>147 rows × 5 columns</p>\n",
       "</div>"
      ],
      "text/plain": [
       "     sepal_length  sepal_width  petal_length  petal_width         species\n",
       "0             5.1          3.5           1.4          0.2     Iris-setosa\n",
       "1             4.9          3.0           1.4          0.2     Iris-setosa\n",
       "2             4.7          3.2           1.3          0.2     Iris-setosa\n",
       "3             4.6          3.1           1.5          0.2     Iris-setosa\n",
       "4             5.0          3.6           1.4          0.2     Iris-setosa\n",
       "..            ...          ...           ...          ...             ...\n",
       "145           6.7          3.0           5.2          2.3  Iris-virginica\n",
       "146           6.3          2.5           5.0          1.9  Iris-virginica\n",
       "147           6.5          3.0           5.2          2.0  Iris-virginica\n",
       "148           6.2          3.4           5.4          2.3  Iris-virginica\n",
       "149           5.9          3.0           5.1          1.8  Iris-virginica\n",
       "\n",
       "[147 rows x 5 columns]"
      ]
     },
     "execution_count": 6,
     "metadata": {},
     "output_type": "execute_result"
    }
   ],
   "source": [
    "df.drop_duplicates()"
   ]
  },
  {
   "cell_type": "code",
   "execution_count": 7,
   "id": "fc92d64b",
   "metadata": {
    "execution": {
     "iopub.execute_input": "2025-07-28T01:06:46.965601Z",
     "iopub.status.busy": "2025-07-28T01:06:46.964941Z",
     "iopub.status.idle": "2025-07-28T01:06:46.971952Z",
     "shell.execute_reply": "2025-07-28T01:06:46.971191Z"
    },
    "papermill": {
     "duration": 0.02087,
     "end_time": "2025-07-28T01:06:46.973424",
     "exception": false,
     "start_time": "2025-07-28T01:06:46.952554",
     "status": "completed"
    },
    "tags": []
   },
   "outputs": [
    {
     "data": {
      "text/plain": [
       "sepal_length    0\n",
       "sepal_width     0\n",
       "petal_length    0\n",
       "petal_width     0\n",
       "species         0\n",
       "dtype: int64"
      ]
     },
     "execution_count": 7,
     "metadata": {},
     "output_type": "execute_result"
    }
   ],
   "source": [
    "df.isnull().sum()"
   ]
  },
  {
   "cell_type": "markdown",
   "id": "5bc563b7",
   "metadata": {
    "papermill": {
     "duration": 0.011254,
     "end_time": "2025-07-28T01:06:46.996239",
     "exception": false,
     "start_time": "2025-07-28T01:06:46.984985",
     "status": "completed"
    },
    "tags": []
   },
   "source": [
    "## **Part 3: Data Visualization**"
   ]
  },
  {
   "cell_type": "code",
   "execution_count": 8,
   "id": "e915c0d9",
   "metadata": {
    "execution": {
     "iopub.execute_input": "2025-07-28T01:06:47.086725Z",
     "iopub.status.busy": "2025-07-28T01:06:47.085919Z",
     "iopub.status.idle": "2025-07-28T01:06:47.092948Z",
     "shell.execute_reply": "2025-07-28T01:06:47.092206Z"
    },
    "papermill": {
     "duration": 0.02117,
     "end_time": "2025-07-28T01:06:47.094191",
     "exception": false,
     "start_time": "2025-07-28T01:06:47.073021",
     "status": "completed"
    },
    "tags": []
   },
   "outputs": [
    {
     "data": {
      "text/plain": [
       "Index(['sepal_length', 'sepal_width', 'petal_length', 'petal_width',\n",
       "       'species'],\n",
       "      dtype='object')"
      ]
     },
     "execution_count": 8,
     "metadata": {},
     "output_type": "execute_result"
    }
   ],
   "source": [
    "df.columns"
   ]
  },
  {
   "cell_type": "code",
   "execution_count": 9,
   "id": "9d55f064",
   "metadata": {
    "execution": {
     "iopub.execute_input": "2025-07-28T01:06:47.119226Z",
     "iopub.status.busy": "2025-07-28T01:06:47.118890Z",
     "iopub.status.idle": "2025-07-28T01:06:47.123074Z",
     "shell.execute_reply": "2025-07-28T01:06:47.122361Z"
    },
    "papermill": {
     "duration": 0.01833,
     "end_time": "2025-07-28T01:06:47.124478",
     "exception": false,
     "start_time": "2025-07-28T01:06:47.106148",
     "status": "completed"
    },
    "tags": []
   },
   "outputs": [],
   "source": [
    "data = df.copy()"
   ]
  },
  {
   "cell_type": "markdown",
   "id": "1b3e1f39",
   "metadata": {
    "papermill": {
     "duration": 0.011684,
     "end_time": "2025-07-28T01:06:47.148094",
     "exception": false,
     "start_time": "2025-07-28T01:06:47.136410",
     "status": "completed"
    },
    "tags": []
   },
   "source": [
    "### **Chart 1: Distribution of Numerical Variables**"
   ]
  },
  {
   "cell_type": "code",
   "execution_count": 10,
   "id": "bd016863",
   "metadata": {
    "execution": {
     "iopub.execute_input": "2025-07-28T01:06:47.172736Z",
     "iopub.status.busy": "2025-07-28T01:06:47.172414Z",
     "iopub.status.idle": "2025-07-28T01:06:47.889911Z",
     "shell.execute_reply": "2025-07-28T01:06:47.889065Z"
    },
    "papermill": {
     "duration": 0.731844,
     "end_time": "2025-07-28T01:06:47.891689",
     "exception": false,
     "start_time": "2025-07-28T01:06:47.159845",
     "status": "completed"
    },
    "tags": []
   },
   "outputs": [
    {
     "data": {
      "image/png": "[encoded data removed]",
      "text/plain": [
       "<Figure size 800x600 with 4 Axes>"
      ]
     },
     "metadata": {},
     "output_type": "display_data"
    }
   ],
   "source": [
    "plt.figure(figsize=(8, 6))\n",
    "plt.suptitle('Distribution of Iris Flower Measurements', fontsize=14, color='#6a0dad')  # Lilac/purple title\n",
    "\n",
    "# Define lilac color (RGB: 200, 162, 200 / Hex: #c8a2c8)\n",
    "lilac_color = '#c8a2c8'  \n",
    "\n",
    "plt.subplot(2, 2, 1)\n",
    "plt.hist(data['sepal_length'], color=lilac_color, edgecolor='#6a0dad', alpha=0.7)  # Alpha for transparency\n",
    "plt.title('Sepal Length Distribution', color='#6a0dad')\n",
    "\n",
    "plt.subplot(2, 2, 2)\n",
    "plt.hist(data['sepal_width'], color=lilac_color, edgecolor='#6a0dad', alpha=0.7)\n",
    "plt.title('Sepal Width Distribution', color='#6a0dad')\n",
    "\n",
    "plt.subplot(2, 2, 3)\n",
    "plt.hist(data['petal_length'], color=lilac_color, edgecolor='#6a0dad', alpha=0.7)\n",
    "plt.title('Petal Length Distribution', color='#6a0dad')\n",
    "\n",
    "plt.subplot(2, 2, 4)\n",
    "plt.hist(data['petal_width'], color=lilac_color, edgecolor='#6a0dad', alpha=0.7)\n",
    "plt.title('Petal Width Distribution', color='#6a0dad')\n",
    "\n",
    "# Adjust layout and display\n",
    "plt.tight_layout()\n",
    "plt.show()"
   ]
  },
  {
   "cell_type": "markdown",
   "id": "8bc5b97f",
   "metadata": {
    "papermill": {
     "duration": 0.012788,
     "end_time": "2025-07-28T01:06:47.917338",
     "exception": false,
     "start_time": "2025-07-28T01:06:47.904550",
     "status": "completed"
    },
    "tags": []
   },
   "source": [
    "### **Chart 2: Sepal Length vs. Sepal Width**"
   ]
  },
  {
   "cell_type": "code",
   "execution_count": 11,
   "id": "0fc1d0b2",
   "metadata": {
    "execution": {
     "iopub.execute_input": "2025-07-28T01:06:47.944666Z",
     "iopub.status.busy": "2025-07-28T01:06:47.944349Z",
     "iopub.status.idle": "2025-07-28T01:06:47.948880Z",
     "shell.execute_reply": "2025-07-28T01:06:47.947956Z"
    },
    "papermill": {
     "duration": 0.019978,
     "end_time": "2025-07-28T01:06:47.950296",
     "exception": false,
     "start_time": "2025-07-28T01:06:47.930318",
     "status": "completed"
    },
    "tags": []
   },
   "outputs": [],
   "source": [
    "colors = ['#eca0ff', '#aab2ff', '#84ffc9'] \n",
    "species = ['Iris-setosa', 'Iris-versicolor', 'Iris-virginica']"
   ]
  },
  {
   "cell_type": "code",
   "execution_count": 12,
   "id": "f27377c1",
   "metadata": {
    "execution": {
     "iopub.execute_input": "2025-07-28T01:06:47.977014Z",
     "iopub.status.busy": "2025-07-28T01:06:47.976720Z",
     "iopub.status.idle": "2025-07-28T01:06:48.202152Z",
     "shell.execute_reply": "2025-07-28T01:06:48.201324Z"
    },
    "papermill": {
     "duration": 0.240735,
     "end_time": "2025-07-28T01:06:48.203769",
     "exception": false,
     "start_time": "2025-07-28T01:06:47.963034",
     "status": "completed"
    },
    "tags": []
   },
   "outputs": [
    {
     "data": {
      "image/png": "[encoded data removed]",
      "text/plain": [
       "<Figure size 640x480 with 1 Axes>"
      ]
     },
     "metadata": {},
     "output_type": "display_data"
    }
   ],
   "source": [
    "for i in range(3):\n",
    "    x = data[data['species'] == species[i]]\n",
    "\n",
    "    plt.scatter(x['sepal_length'], x['sepal_width'], c=colors[i], label=species[i])\n",
    "\n",
    "plt.xlabel('Sepal Length')\n",
    "plt.ylabel('Sepal Width')\n",
    "\n",
    "plt.legend()\n",
    "\n",
    "plt.show()"
   ]
  },
  {
   "cell_type": "markdown",
   "id": "1ecd5cd2",
   "metadata": {
    "papermill": {
     "duration": 0.012815,
     "end_time": "2025-07-28T01:06:48.230400",
     "exception": false,
     "start_time": "2025-07-28T01:06:48.217585",
     "status": "completed"
    },
    "tags": []
   },
   "source": [
    "### **Chart 3: Petal Length vs. Petal Width**"
   ]
  },
  {
   "cell_type": "code",
   "execution_count": 13,
   "id": "1dbf423b",
   "metadata": {
    "execution": {
     "iopub.execute_input": "2025-07-28T01:06:48.257955Z",
     "iopub.status.busy": "2025-07-28T01:06:48.257596Z",
     "iopub.status.idle": "2025-07-28T01:06:48.471162Z",
     "shell.execute_reply": "2025-07-28T01:06:48.470287Z"
    },
    "papermill": {
     "duration": 0.229226,
     "end_time": "2025-07-28T01:06:48.472745",
     "exception": false,
     "start_time": "2025-07-28T01:06:48.243519",
     "status": "completed"
    },
    "tags": []
   },
   "outputs": [
    {
     "data": {
      "image/png": "[encoded data removed]",
      "text/plain": [
       "<Figure size 640x480 with 1 Axes>"
      ]
     },
     "metadata": {},
     "output_type": "display_data"
    }
   ],
   "source": [
    "for i in range(3):\n",
    "    x = data[data['species'] == species[i]]\n",
    "\n",
    "    plt.scatter(x['petal_length'], x['petal_width'], c=colors[i], label=species[i])\n",
    "\n",
    "plt.xlabel('Petal Length')\n",
    "plt.ylabel('Petal Width')\n",
    "\n",
    "plt.legend()\n",
    "\n",
    "plt.show()"
   ]
  },
  {
   "cell_type": "markdown",
   "id": "9e8c029c",
   "metadata": {
    "papermill": {
     "duration": 0.013465,
     "end_time": "2025-07-28T01:06:48.503306",
     "exception": false,
     "start_time": "2025-07-28T01:06:48.489841",
     "status": "completed"
    },
    "tags": []
   },
   "source": [
    "### **Chart 4: Sepal Length vs. Petal Length**"
   ]
  },
  {
   "cell_type": "code",
   "execution_count": 14,
   "id": "c3ce3943",
   "metadata": {
    "execution": {
     "iopub.execute_input": "2025-07-28T01:06:48.531627Z",
     "iopub.status.busy": "2025-07-28T01:06:48.531338Z",
     "iopub.status.idle": "2025-07-28T01:06:48.752016Z",
     "shell.execute_reply": "2025-07-28T01:06:48.751095Z"
    },
    "papermill": {
     "duration": 0.236635,
     "end_time": "2025-07-28T01:06:48.753489",
     "exception": false,
     "start_time": "2025-07-28T01:06:48.516854",
     "status": "completed"
    },
    "tags": []
   },
   "outputs": [
    {
     "data": {
      "image/png": "[encoded data removed]",
      "text/plain": [
       "<Figure size 640x480 with 1 Axes>"
      ]
     },
     "metadata": {},
     "output_type": "display_data"
    }
   ],
   "source": [
    "for i in range(3):\n",
    "    x = data[data['species'] == species[i]]\n",
    "\n",
    "    plt.scatter(x['sepal_length'], x['petal_length'], c=colors[i], label=species[i])\n",
    "\n",
    "plt.xlabel('Sepal Length')\n",
    "plt.ylabel('Petal Length')\n",
    "\n",
    "plt.legend()\n",
    "\n",
    "plt.show()"
   ]
  },
  {
   "cell_type": "markdown",
   "id": "3059e65c",
   "metadata": {
    "papermill": {
     "duration": 0.014139,
     "end_time": "2025-07-28T01:06:48.781916",
     "exception": false,
     "start_time": "2025-07-28T01:06:48.767777",
     "status": "completed"
    },
    "tags": []
   },
   "source": [
    "### **Chart 5: Sepal Width vs. Petal Width**"
   ]
  },
  {
   "cell_type": "code",
   "execution_count": 15,
   "id": "7745e7c4",
   "metadata": {
    "execution": {
     "iopub.execute_input": "2025-07-28T01:06:48.814153Z",
     "iopub.status.busy": "2025-07-28T01:06:48.813184Z",
     "iopub.status.idle": "2025-07-28T01:06:49.027931Z",
     "shell.execute_reply": "2025-07-28T01:06:49.027007Z"
    },
    "papermill": {
     "duration": 0.23299,
     "end_time": "2025-07-28T01:06:49.029481",
     "exception": false,
     "start_time": "2025-07-28T01:06:48.796491",
     "status": "completed"
    },
    "tags": []
   },
   "outputs": [
    {
     "data": {
      "image/png": "[encoded data removed]",
      "text/plain": [
       "<Figure size 640x480 with 1 Axes>"
      ]
     },
     "metadata": {},
     "output_type": "display_data"
    }
   ],
   "source": [
    "for i in range(3):\n",
    "    x = data[data['species'] == species[i]]\n",
    "\n",
    "    plt.scatter(x['sepal_width'], x['petal_width'], c=colors[i], label=species[i])\n",
    "\n",
    "plt.xlabel('Sepal Width')\n",
    "plt.ylabel('Petal Width')\n",
    "\n",
    "plt.legend()\n",
    "\n",
    "plt.show()"
   ]
  },
  {
   "cell_type": "markdown",
   "id": "4583ea4b",
   "metadata": {
    "papermill": {
     "duration": 0.014677,
     "end_time": "2025-07-28T01:06:49.059443",
     "exception": false,
     "start_time": "2025-07-28T01:06:49.044766",
     "status": "completed"
    },
    "tags": []
   },
   "source": [
    "### **Chart 6: Correlation Heatmap**"
   ]
  },
  {
   "cell_type": "code",
   "execution_count": 16,
   "id": "6ace1c2c",
   "metadata": {
    "execution": {
     "iopub.execute_input": "2025-07-28T01:06:49.091440Z",
     "iopub.status.busy": "2025-07-28T01:06:49.090625Z",
     "iopub.status.idle": "2025-07-28T01:06:49.326623Z",
     "shell.execute_reply": "2025-07-28T01:06:49.325775Z"
    },
    "papermill": {
     "duration": 0.25373,
     "end_time": "2025-07-28T01:06:49.328228",
     "exception": false,
     "start_time": "2025-07-28T01:06:49.074498",
     "status": "completed"
    },
    "tags": []
   },
   "outputs": [
    {
     "data": {
      "image/png": "[encoded data removed]",
      "text/plain": [
       "<Figure size 800x400 with 2 Axes>"
      ]
     },
     "metadata": {},
     "output_type": "display_data"
    }
   ],
   "source": [
    "# Correlation Heatmap Visualization Code\n",
    "corr_matrix = data.select_dtypes(include=['float64', 'int64']).corr()\n",
    "\n",
    "# Plot Heatmap\n",
    "plt.figure(figsize=(8, 4))\n",
    "sns.heatmap(corr_matrix, annot=True, cmap='RdPu')\n",
    "\n",
    "# Setting Labels\n",
    "plt.title('Correlation Matrix heatmap')\n",
    "\n",
    "# Display Chart\n",
    "plt.show()"
   ]
  },
  {
   "cell_type": "markdown",
   "id": "6a3bd3e3",
   "metadata": {
    "papermill": {
     "duration": 0.01615,
     "end_time": "2025-07-28T01:06:49.360139",
     "exception": false,
     "start_time": "2025-07-28T01:06:49.343989",
     "status": "completed"
    },
    "tags": []
   },
   "source": [
    "### Some Insights\n",
    "* Sepal measurements alone cannot perfectly separate all three species, especially versicolor and virginica.\n",
    "* Petal measurements show clearer separation between species than sepal measurements.\n",
    "* Setosa is easily identifiable by its small petals.\n",
    "* Virginica has the largest petals and longest sepals.\n",
    "* Versicolor is intermediate but overlaps with virginica in sepal length."
   ]
  },
  {
   "cell_type": "markdown",
   "id": "85ad7483",
   "metadata": {
    "papermill": {
     "duration": 0.015463,
     "end_time": "2025-07-28T01:06:49.391037",
     "exception": false,
     "start_time": "2025-07-28T01:06:49.375574",
     "status": "completed"
    },
    "tags": []
   },
   "source": [
    "## **Part 4: Feature Engineering & Data Preprocessing**"
   ]
  },
  {
   "cell_type": "markdown",
   "id": "abd1aa13",
   "metadata": {
    "papermill": {
     "duration": 0.015919,
     "end_time": "2025-07-28T01:06:49.422361",
     "exception": false,
     "start_time": "2025-07-28T01:06:49.406442",
     "status": "completed"
    },
    "tags": []
   },
   "source": [
    "### 1. Categorical Encoding"
   ]
  },
  {
   "cell_type": "code",
   "execution_count": 17,
   "id": "98cc7005",
   "metadata": {
    "execution": {
     "iopub.execute_input": "2025-07-28T01:06:49.454331Z",
     "iopub.status.busy": "2025-07-28T01:06:49.454001Z",
     "iopub.status.idle": "2025-07-28T01:06:49.461591Z",
     "shell.execute_reply": "2025-07-28T01:06:49.460628Z"
    },
    "papermill": {
     "duration": 0.025537,
     "end_time": "2025-07-28T01:06:49.463142",
     "exception": false,
     "start_time": "2025-07-28T01:06:49.437605",
     "status": "completed"
    },
    "tags": []
   },
   "outputs": [
    {
     "name": "stdout",
     "output_type": "stream",
     "text": [
      "Encoded Species Values:\n",
      "[0 1 2]\n"
     ]
    }
   ],
   "source": [
    "le = LabelEncoder()\n",
    "\n",
    "data['species'] = le.fit_transform(data['species'])\n",
    "\n",
    "unique_species = data['species'].unique()\n",
    "\n",
    "print(\"Encoded Species Values:\")\n",
    "print(unique_species) # 'Iris-setosa' == 0, 'Iris-versicolor' == 1, 'Iris-virginica' == 2"
   ]
  },
  {
   "cell_type": "markdown",
   "id": "a3be3205",
   "metadata": {
    "papermill": {
     "duration": 0.015347,
     "end_time": "2025-07-28T01:06:49.494368",
     "exception": false,
     "start_time": "2025-07-28T01:06:49.479021",
     "status": "completed"
    },
    "tags": []
   },
   "source": [
    "### 2. Create New Ratio Features\n",
    "* The ratios between petal and sepal dimensions reflect inherent biological characteristics of each species:\n",
    "    * Iris-setosa: Typically has small petals relative to sepals (low ratios)\n",
    "    * Iris-versicolor: Moderate ratios\n",
    "    * Iris-virginica: Large petals relative to sepals (high ratios)\n",
    "*  Using 4 original features (sepal length/width, petal length/width), ratios:\n",
    "    * Reduce multicollinearity (petal length and petal width are highly correlated)\n",
    "    * Help simpler models like Logistic Regression perform better"
   ]
  },
  {
   "cell_type": "code",
   "execution_count": 18,
   "id": "f0f8672f",
   "metadata": {
    "execution": {
     "iopub.execute_input": "2025-07-28T01:06:49.527110Z",
     "iopub.status.busy": "2025-07-28T01:06:49.526805Z",
     "iopub.status.idle": "2025-07-28T01:06:49.540597Z",
     "shell.execute_reply": "2025-07-28T01:06:49.539378Z"
    },
    "papermill": {
     "duration": 0.032027,
     "end_time": "2025-07-28T01:06:49.542135",
     "exception": false,
     "start_time": "2025-07-28T01:06:49.510108",
     "status": "completed"
    },
    "tags": []
   },
   "outputs": [
    {
     "name": "stdout",
     "output_type": "stream",
     "text": [
      "   petal_to_sepal_length  petal_to_sepal_width  length_to_width_ratio\n",
      "0               0.274510              0.057143                    7.0\n",
      "1               0.285714              0.066667                    7.0\n",
      "2               0.276596              0.062500                    6.5\n",
      "3               0.326087              0.064516                    7.5\n",
      "4               0.280000              0.055556                    7.0\n"
     ]
    }
   ],
   "source": [
    "x = data.drop(columns=['species'])\n",
    "y = data['species']\n",
    "\n",
    "x['petal_to_sepal_length'] = x['petal_length'] / x['sepal_length']\n",
    "x['petal_to_sepal_width'] = x['petal_width'] / x['sepal_width']\n",
    "x['length_to_width_ratio'] = x['petal_length'] / x['petal_width']\n",
    "\n",
    "print(x[['petal_to_sepal_length', 'petal_to_sepal_width', 'length_to_width_ratio']].head())"
   ]
  },
  {
   "cell_type": "markdown",
   "id": "7886e453",
   "metadata": {
    "papermill": {
     "duration": 0.015583,
     "end_time": "2025-07-28T01:06:49.574036",
     "exception": false,
     "start_time": "2025-07-28T01:06:49.558453",
     "status": "completed"
    },
    "tags": []
   },
   "source": [
    "* **petal_to_sepal_length:** best for separating virginica\n",
    "    * Virginica has disproportionately long petals compared to its sepals. While all species grow larger overall, virginica's petals grow faster than its sepals during development. This creates a ratio gap that's stable across plant sizes.\n",
    "* **petal_to_sepal_width:** helps identify setosa\n",
    "    * Setosa has wide sepals (3-4.5cm) but tiny narrow petals (0.1-0.6cm). This creates extremely low width ratios that are biologically unique among the three species.\n",
    "* **length_to_width_ratio:** distinguishes versicolor\n",
    "    * Versicolor petals grow longer but not proportionally wider, creating higher length-to-width ratios. Virginica's petals widen as they lengthen, keeping this ratio more moderate."
   ]
  },
  {
   "cell_type": "markdown",
   "id": "996a89f5",
   "metadata": {
    "papermill": {
     "duration": 0.015447,
     "end_time": "2025-07-28T01:06:49.605674",
     "exception": false,
     "start_time": "2025-07-28T01:06:49.590227",
     "status": "completed"
    },
    "tags": []
   },
   "source": [
    "### 3. Scale the Features"
   ]
  },
  {
   "cell_type": "code",
   "execution_count": 19,
   "id": "8e303db5",
   "metadata": {
    "execution": {
     "iopub.execute_input": "2025-07-28T01:06:49.638118Z",
     "iopub.status.busy": "2025-07-28T01:06:49.637818Z",
     "iopub.status.idle": "2025-07-28T01:06:49.649746Z",
     "shell.execute_reply": "2025-07-28T01:06:49.648712Z"
    },
    "papermill": {
     "duration": 0.029791,
     "end_time": "2025-07-28T01:06:49.651294",
     "exception": false,
     "start_time": "2025-07-28T01:06:49.621503",
     "status": "completed"
    },
    "tags": []
   },
   "outputs": [
    {
     "name": "stdout",
     "output_type": "stream",
     "text": [
      "   sepal_length  sepal_width  petal_length  petal_width  \\\n",
      "0     -0.900681     1.032057     -1.341272    -1.312977   \n",
      "1     -1.143017    -0.124958     -1.341272    -1.312977   \n",
      "2     -1.385353     0.337848     -1.398138    -1.312977   \n",
      "3     -1.506521     0.106445     -1.284407    -1.312977   \n",
      "4     -1.021849     1.263460     -1.341272    -1.312977   \n",
      "\n",
      "   petal_to_sepal_length  petal_to_sepal_width  length_to_width_ratio  \n",
      "0              -1.434116             -1.355671               0.996284  \n",
      "1              -1.387365             -1.319241               0.996284  \n",
      "2              -1.425412             -1.335179               0.807080  \n",
      "3              -1.218908             -1.327467               1.185487  \n",
      "4              -1.411208             -1.361743               0.996284  \n"
     ]
    }
   ],
   "source": [
    "from sklearn.preprocessing import StandardScaler\n",
    "\n",
    "scaler = StandardScaler()\n",
    "x_scaled = scaler.fit_transform(x)\n",
    "\n",
    "x_scaled = pd.DataFrame(x_scaled, columns=x.columns)\n",
    "print(x_scaled.head())"
   ]
  },
  {
   "cell_type": "code",
   "execution_count": 20,
   "id": "77e28c88",
   "metadata": {
    "execution": {
     "iopub.execute_input": "2025-07-28T01:06:49.684247Z",
     "iopub.status.busy": "2025-07-28T01:06:49.683927Z",
     "iopub.status.idle": "2025-07-28T01:06:49.694489Z",
     "shell.execute_reply": "2025-07-28T01:06:49.693542Z"
    },
    "papermill": {
     "duration": 0.028651,
     "end_time": "2025-07-28T01:06:49.695949",
     "exception": false,
     "start_time": "2025-07-28T01:06:49.667298",
     "status": "completed"
    },
    "tags": []
   },
   "outputs": [
    {
     "name": "stdout",
     "output_type": "stream",
     "text": [
      "Train distribution:\n",
      " species\n",
      "1    37\n",
      "2    37\n",
      "0    31\n",
      "Name: count, dtype: int64\n"
     ]
    }
   ],
   "source": [
    "x_train, x_test, y_train, y_test = train_test_split(\n",
    "    x_scaled, y, test_size=0.3, random_state=42\n",
    ")\n",
    "\n",
    "# Check distribution\n",
    "print(\"Train distribution:\\n\", y_train.value_counts())"
   ]
  },
  {
   "cell_type": "markdown",
   "id": "147729bd",
   "metadata": {
    "papermill": {
     "duration": 0.01573,
     "end_time": "2025-07-28T01:06:49.728106",
     "exception": false,
     "start_time": "2025-07-28T01:06:49.712376",
     "status": "completed"
    },
    "tags": []
   },
   "source": [
    "## **Part 5: ML Model Implementation**"
   ]
  },
  {
   "cell_type": "code",
   "execution_count": 21,
   "id": "48798b98",
   "metadata": {
    "execution": {
     "iopub.execute_input": "2025-07-28T01:06:49.761274Z",
     "iopub.status.busy": "2025-07-28T01:06:49.760835Z",
     "iopub.status.idle": "2025-07-28T01:06:49.770862Z",
     "shell.execute_reply": "2025-07-28T01:06:49.770104Z"
    },
    "papermill": {
     "duration": 0.028175,
     "end_time": "2025-07-28T01:06:49.772194",
     "exception": false,
     "start_time": "2025-07-28T01:06:49.744019",
     "status": "completed"
    },
    "tags": []
   },
   "outputs": [],
   "source": [
    "def evaluate_model(model, x_train, x_test, y_train, y_test):\n",
    "    model.fit(x_train, y_train)\n",
    "\n",
    "    y_pred_train = model.predict(x_train)\n",
    "    y_pred_test = model.predict(x_test)\n",
    "\n",
    "    cm_train = confusion_matrix(y_train, y_pred_train)\n",
    "    cm_test = confusion_matrix(y_test, y_pred_test)\n",
    "\n",
    "    fig, ax = plt.subplots(1, 2, figsize=(11,4))\n",
    "\n",
    "    print(\"\\nConfusion Matrix:\")\n",
    "    sns.heatmap(cm_train, annot=True, xticklabels=['Negative', 'Positive'], yticklabels=['Negative', 'Positive'], cmap=\"Oranges\", fmt='.4g', ax=ax[0])\n",
    "    ax[0].set_xlabel(\"Predicted Label\")\n",
    "    ax[0].set_ylabel(\"True Label\")\n",
    "    ax[0].set_title(\"Train Confusion Matrix\")\n",
    "\n",
    "    sns.heatmap(cm_test, annot=True, xticklabels=['Negative', 'Positive'], yticklabels=['Negative', 'Positive'], cmap=\"Oranges\", fmt='.4g', ax=ax[1])\n",
    "    ax[1].set_xlabel(\"Predicted Label\")\n",
    "    ax[1].set_ylabel(\"True Label\")\n",
    "    ax[1].set_title(\"Test Confusion Matrix\")\n",
    "\n",
    "    plt.tight_layout()\n",
    "    plt.show()\n",
    "\n",
    "    cr_train = classification_report(y_train, y_pred_train, output_dict=True)\n",
    "    cr_test = classification_report(y_test, y_pred_test, output_dict=True)\n",
    "    print(\"\\nTrain Classification Report:\")\n",
    "    crt = pd.DataFrame(cr_train).T\n",
    "    print(crt.to_markdown())\n",
    "    print(\"\\nTest Classification Report:\")\n",
    "    crt2 = pd.DataFrame(cr_test).T\n",
    "    print(crt2.to_markdown())\n",
    "\n",
    "    precision_train = cr_train['weighted avg']['precision']\n",
    "    precision_test = cr_test['weighted avg']['precision']\n",
    "\n",
    "    recall_train = cr_train['weighted avg']['recall']\n",
    "    recall_test = cr_test['weighted avg']['recall']\n",
    "\n",
    "    acc_train = accuracy_score(y_true = y_train, y_pred = y_pred_train)\n",
    "    acc_test = accuracy_score(y_true = y_test, y_pred = y_pred_test)\n",
    "\n",
    "    F1_train = cr_train['weighted avg']['f1-score']\n",
    "    F1_test = cr_test['weighted avg']['f1-score']\n",
    "\n",
    "    model_score = [precision_train, precision_test, recall_train, recall_test, acc_train, acc_test, F1_train, F1_test ]\n",
    "    return model_score"
   ]
  },
  {
   "cell_type": "code",
   "execution_count": 22,
   "id": "a9f2f4eb",
   "metadata": {
    "execution": {
     "iopub.execute_input": "2025-07-28T01:06:49.805198Z",
     "iopub.status.busy": "2025-07-28T01:06:49.804857Z",
     "iopub.status.idle": "2025-07-28T01:06:49.810124Z",
     "shell.execute_reply": "2025-07-28T01:06:49.809374Z"
    },
    "papermill": {
     "duration": 0.023383,
     "end_time": "2025-07-28T01:06:49.811565",
     "exception": false,
     "start_time": "2025-07-28T01:06:49.788182",
     "status": "completed"
    },
    "tags": []
   },
   "outputs": [],
   "source": [
    "score = pd.DataFrame(index = ['Precision Train', 'Precision Test','Recall Train','Recall Test','Accuracy Train', 'Accuracy Test', 'F1 macro Train', 'F1 macro Test'])"
   ]
  },
  {
   "cell_type": "markdown",
   "id": "c586b849",
   "metadata": {
    "papermill": {
     "duration": 0.015566,
     "end_time": "2025-07-28T01:06:49.843080",
     "exception": false,
     "start_time": "2025-07-28T01:06:49.827514",
     "status": "completed"
    },
    "tags": []
   },
   "source": [
    "###  **Model 1: Logistic Regression**"
   ]
  },
  {
   "cell_type": "code",
   "execution_count": 23,
   "id": "92e15fac",
   "metadata": {
    "execution": {
     "iopub.execute_input": "2025-07-28T01:06:49.875859Z",
     "iopub.status.busy": "2025-07-28T01:06:49.875539Z",
     "iopub.status.idle": "2025-07-28T01:06:49.880219Z",
     "shell.execute_reply": "2025-07-28T01:06:49.879144Z"
    },
    "papermill": {
     "duration": 0.022865,
     "end_time": "2025-07-28T01:06:49.881826",
     "exception": false,
     "start_time": "2025-07-28T01:06:49.858961",
     "status": "completed"
    },
    "tags": []
   },
   "outputs": [],
   "source": [
    "lr_model = LogisticRegression(fit_intercept=True, max_iter=10000)"
   ]
  },
  {
   "cell_type": "code",
   "execution_count": 24,
   "id": "84ee8f60",
   "metadata": {
    "execution": {
     "iopub.execute_input": "2025-07-28T01:06:49.915138Z",
     "iopub.status.busy": "2025-07-28T01:06:49.914812Z",
     "iopub.status.idle": "2025-07-28T01:06:50.595609Z",
     "shell.execute_reply": "2025-07-28T01:06:50.594717Z"
    },
    "papermill": {
     "duration": 0.699034,
     "end_time": "2025-07-28T01:06:50.597318",
     "exception": false,
     "start_time": "2025-07-28T01:06:49.898284",
     "status": "completed"
    },
    "tags": []
   },
   "outputs": [
    {
     "name": "stdout",
     "output_type": "stream",
     "text": [
      "\n",
      "Confusion Matrix:\n"
     ]
    },
    {
     "data": {
      "image/png": "[encoded data removed]",
      "text/plain": [
       "<Figure size 1100x400 with 4 Axes>"
      ]
     },
     "metadata": {},
     "output_type": "display_data"
    },
    {
     "name": "stdout",
     "output_type": "stream",
     "text": [
      "\n",
      "Train Classification Report:\n",
      "|              |   precision |   recall |   f1-score |    support |\n",
      "|:-------------|------------:|---------:|-----------:|-----------:|\n",
      "| 0            |    1        | 1        |   1        |  31        |\n",
      "| 1            |    0.971429 | 0.918919 |   0.944444 |  37        |\n",
      "| 2            |    0.923077 | 0.972973 |   0.947368 |  37        |\n",
      "| accuracy     |    0.961905 | 0.961905 |   0.961905 |   0.961905 |\n",
      "| macro avg    |    0.964835 | 0.963964 |   0.963938 | 105        |\n",
      "| weighted avg |    0.962826 | 0.961905 |   0.961877 | 105        |\n",
      "\n",
      "Test Classification Report:\n",
      "|              |   precision |   recall |   f1-score |   support |\n",
      "|:-------------|------------:|---------:|-----------:|----------:|\n",
      "| 0            |           1 |        1 |          1 |        19 |\n",
      "| 1            |           1 |        1 |          1 |        13 |\n",
      "| 2            |           1 |        1 |          1 |        13 |\n",
      "| accuracy     |           1 |        1 |          1 |         1 |\n",
      "| macro avg    |           1 |        1 |          1 |        45 |\n",
      "| weighted avg |           1 |        1 |          1 |        45 |\n"
     ]
    }
   ],
   "source": [
    "lr_score = evaluate_model(lr_model, x_train, x_test, y_train, y_test)"
   ]
  },
  {
   "cell_type": "code",
   "execution_count": 25,
   "id": "84ae7373",
   "metadata": {
    "execution": {
     "iopub.execute_input": "2025-07-28T01:06:50.632377Z",
     "iopub.status.busy": "2025-07-28T01:06:50.632078Z",
     "iopub.status.idle": "2025-07-28T01:06:50.640831Z",
     "shell.execute_reply": "2025-07-28T01:06:50.640081Z"
    },
    "papermill": {
     "duration": 0.027639,
     "end_time": "2025-07-28T01:06:50.642071",
     "exception": false,
     "start_time": "2025-07-28T01:06:50.614432",
     "status": "completed"
    },
    "tags": []
   },
   "outputs": [
    {
     "data": {
      "text/html": [
       "<div>\n",
       "<style scoped>\n",
       "    .dataframe tbody tr th:only-of-type {\n",
       "        vertical-align: middle;\n",
       "    }\n",
       "\n",
       "    .dataframe tbody tr th {\n",
       "        vertical-align: top;\n",
       "    }\n",
       "\n",
       "    .dataframe thead th {\n",
       "        text-align: right;\n",
       "    }\n",
       "</style>\n",
       "<table border=\"1\" class=\"dataframe\">\n",
       "  <thead>\n",
       "    <tr style=\"text-align: right;\">\n",
       "      <th></th>\n",
       "      <th>Logistic regression</th>\n",
       "    </tr>\n",
       "  </thead>\n",
       "  <tbody>\n",
       "    <tr>\n",
       "      <th>Precision Train</th>\n",
       "      <td>0.962826</td>\n",
       "    </tr>\n",
       "    <tr>\n",
       "      <th>Precision Test</th>\n",
       "      <td>1.000000</td>\n",
       "    </tr>\n",
       "    <tr>\n",
       "      <th>Recall Train</th>\n",
       "      <td>0.961905</td>\n",
       "    </tr>\n",
       "    <tr>\n",
       "      <th>Recall Test</th>\n",
       "      <td>1.000000</td>\n",
       "    </tr>\n",
       "    <tr>\n",
       "      <th>Accuracy Train</th>\n",
       "      <td>0.961905</td>\n",
       "    </tr>\n",
       "    <tr>\n",
       "      <th>Accuracy Test</th>\n",
       "      <td>1.000000</td>\n",
       "    </tr>\n",
       "    <tr>\n",
       "      <th>F1 macro Train</th>\n",
       "      <td>0.961877</td>\n",
       "    </tr>\n",
       "    <tr>\n",
       "      <th>F1 macro Test</th>\n",
       "      <td>1.000000</td>\n",
       "    </tr>\n",
       "  </tbody>\n",
       "</table>\n",
       "</div>"
      ],
      "text/plain": [
       "                 Logistic regression\n",
       "Precision Train             0.962826\n",
       "Precision Test              1.000000\n",
       "Recall Train                0.961905\n",
       "Recall Test                 1.000000\n",
       "Accuracy Train              0.961905\n",
       "Accuracy Test               1.000000\n",
       "F1 macro Train              0.961877\n",
       "F1 macro Test               1.000000"
      ]
     },
     "execution_count": 25,
     "metadata": {},
     "output_type": "execute_result"
    }
   ],
   "source": [
    "score['Logistic regression'] = lr_score\n",
    "score"
   ]
  },
  {
   "cell_type": "markdown",
   "id": "9cefafd2",
   "metadata": {
    "papermill": {
     "duration": 0.016463,
     "end_time": "2025-07-28T01:06:50.675401",
     "exception": false,
     "start_time": "2025-07-28T01:06:50.658938",
     "status": "completed"
    },
    "tags": []
   },
   "source": [
    "**Observations:**\n",
    "* Perfect test performance (100% on all metrics) indicates flawless generalization to unseen data.\n",
    "* Slightly lower training metrics (~96%) suggest mild underfitting, which is preferable to overfitting for this particular dataset."
   ]
  },
  {
   "cell_type": "markdown",
   "id": "1c549aa8",
   "metadata": {
    "papermill": {
     "duration": 0.016392,
     "end_time": "2025-07-28T01:06:50.708410",
     "exception": false,
     "start_time": "2025-07-28T01:06:50.692018",
     "status": "completed"
    },
    "tags": []
   },
   "source": [
    "###  **Model 2: Decision Tree**"
   ]
  },
  {
   "cell_type": "code",
   "execution_count": 26,
   "id": "77a38743",
   "metadata": {
    "execution": {
     "iopub.execute_input": "2025-07-28T01:06:50.743826Z",
     "iopub.status.busy": "2025-07-28T01:06:50.743496Z",
     "iopub.status.idle": "2025-07-28T01:06:50.747588Z",
     "shell.execute_reply": "2025-07-28T01:06:50.746716Z"
    },
    "papermill": {
     "duration": 0.023305,
     "end_time": "2025-07-28T01:06:50.749108",
     "exception": false,
     "start_time": "2025-07-28T01:06:50.725803",
     "status": "completed"
    },
    "tags": []
   },
   "outputs": [],
   "source": [
    "dt_model = DecisionTreeClassifier(random_state=20)"
   ]
  },
  {
   "cell_type": "code",
   "execution_count": 27,
   "id": "4b76469c",
   "metadata": {
    "execution": {
     "iopub.execute_input": "2025-07-28T01:06:50.784208Z",
     "iopub.status.busy": "2025-07-28T01:06:50.783891Z",
     "iopub.status.idle": "2025-07-28T01:06:51.257290Z",
     "shell.execute_reply": "2025-07-28T01:06:51.256185Z"
    },
    "papermill": {
     "duration": 0.49294,
     "end_time": "2025-07-28T01:06:51.258932",
     "exception": false,
     "start_time": "2025-07-28T01:06:50.765992",
     "status": "completed"
    },
    "tags": []
   },
   "outputs": [
    {
     "name": "stdout",
     "output_type": "stream",
     "text": [
      "\n",
      "Confusion Matrix:\n"
     ]
    },
    {
     "data": {
      "image/png": "[encoded data removed]",
      "text/plain": [
       "<Figure size 1100x400 with 4 Axes>"
      ]
     },
     "metadata": {},
     "output_type": "display_data"
    },
    {
     "name": "stdout",
     "output_type": "stream",
     "text": [
      "\n",
      "Train Classification Report:\n",
      "|              |   precision |   recall |   f1-score |   support |\n",
      "|:-------------|------------:|---------:|-----------:|----------:|\n",
      "| 0            |           1 |        1 |          1 |        31 |\n",
      "| 1            |           1 |        1 |          1 |        37 |\n",
      "| 2            |           1 |        1 |          1 |        37 |\n",
      "| accuracy     |           1 |        1 |          1 |         1 |\n",
      "| macro avg    |           1 |        1 |          1 |       105 |\n",
      "| weighted avg |           1 |        1 |          1 |       105 |\n",
      "\n",
      "Test Classification Report:\n",
      "|              |   precision |   recall |   f1-score |   support |\n",
      "|:-------------|------------:|---------:|-----------:|----------:|\n",
      "| 0            |    1        | 1        |   1        | 19        |\n",
      "| 1            |    0.928571 | 1        |   0.962963 | 13        |\n",
      "| 2            |    1        | 0.923077 |   0.96     | 13        |\n",
      "| accuracy     |    0.977778 | 0.977778 |   0.977778 |  0.977778 |\n",
      "| macro avg    |    0.97619  | 0.974359 |   0.974321 | 45        |\n",
      "| weighted avg |    0.979365 | 0.977778 |   0.977745 | 45        |\n"
     ]
    }
   ],
   "source": [
    "dt_score = evaluate_model(dt_model, x_train, x_test, y_train, y_test)"
   ]
  },
  {
   "cell_type": "code",
   "execution_count": 28,
   "id": "69fba89a",
   "metadata": {
    "execution": {
     "iopub.execute_input": "2025-07-28T01:06:51.296422Z",
     "iopub.status.busy": "2025-07-28T01:06:51.296107Z",
     "iopub.status.idle": "2025-07-28T01:06:51.306188Z",
     "shell.execute_reply": "2025-07-28T01:06:51.305323Z"
    },
    "papermill": {
     "duration": 0.030393,
     "end_time": "2025-07-28T01:06:51.307543",
     "exception": false,
     "start_time": "2025-07-28T01:06:51.277150",
     "status": "completed"
    },
    "tags": []
   },
   "outputs": [
    {
     "data": {
      "text/html": [
       "<div>\n",
       "<style scoped>\n",
       "    .dataframe tbody tr th:only-of-type {\n",
       "        vertical-align: middle;\n",
       "    }\n",
       "\n",
       "    .dataframe tbody tr th {\n",
       "        vertical-align: top;\n",
       "    }\n",
       "\n",
       "    .dataframe thead th {\n",
       "        text-align: right;\n",
       "    }\n",
       "</style>\n",
       "<table border=\"1\" class=\"dataframe\">\n",
       "  <thead>\n",
       "    <tr style=\"text-align: right;\">\n",
       "      <th></th>\n",
       "      <th>Logistic regression</th>\n",
       "      <th>Decision Tree</th>\n",
       "    </tr>\n",
       "  </thead>\n",
       "  <tbody>\n",
       "    <tr>\n",
       "      <th>Precision Train</th>\n",
       "      <td>0.962826</td>\n",
       "      <td>1.000000</td>\n",
       "    </tr>\n",
       "    <tr>\n",
       "      <th>Precision Test</th>\n",
       "      <td>1.000000</td>\n",
       "      <td>0.979365</td>\n",
       "    </tr>\n",
       "    <tr>\n",
       "      <th>Recall Train</th>\n",
       "      <td>0.961905</td>\n",
       "      <td>1.000000</td>\n",
       "    </tr>\n",
       "    <tr>\n",
       "      <th>Recall Test</th>\n",
       "      <td>1.000000</td>\n",
       "      <td>0.977778</td>\n",
       "    </tr>\n",
       "    <tr>\n",
       "      <th>Accuracy Train</th>\n",
       "      <td>0.961905</td>\n",
       "      <td>1.000000</td>\n",
       "    </tr>\n",
       "    <tr>\n",
       "      <th>Accuracy Test</th>\n",
       "      <td>1.000000</td>\n",
       "      <td>0.977778</td>\n",
       "    </tr>\n",
       "    <tr>\n",
       "      <th>F1 macro Train</th>\n",
       "      <td>0.961877</td>\n",
       "      <td>1.000000</td>\n",
       "    </tr>\n",
       "    <tr>\n",
       "      <th>F1 macro Test</th>\n",
       "      <td>1.000000</td>\n",
       "      <td>0.977745</td>\n",
       "    </tr>\n",
       "  </tbody>\n",
       "</table>\n",
       "</div>"
      ],
      "text/plain": [
       "                 Logistic regression  Decision Tree\n",
       "Precision Train             0.962826       1.000000\n",
       "Precision Test              1.000000       0.979365\n",
       "Recall Train                0.961905       1.000000\n",
       "Recall Test                 1.000000       0.977778\n",
       "Accuracy Train              0.961905       1.000000\n",
       "Accuracy Test               1.000000       0.977778\n",
       "F1 macro Train              0.961877       1.000000\n",
       "F1 macro Test               1.000000       0.977745"
      ]
     },
     "execution_count": 28,
     "metadata": {},
     "output_type": "execute_result"
    }
   ],
   "source": [
    "score['Decision Tree'] = dt_score\n",
    "score"
   ]
  },
  {
   "cell_type": "markdown",
   "id": "35c5cb67",
   "metadata": {
    "papermill": {
     "duration": 0.017794,
     "end_time": "2025-07-28T01:06:51.343214",
     "exception": false,
     "start_time": "2025-07-28T01:06:51.325420",
     "status": "completed"
    },
    "tags": []
   },
   "source": [
    "**Observations:**\n",
    "* Perfect train performance (100% on all metrics) indicates complete pattern memorization.\n",
    "* Test metrics (~97.8%) confirms *mild* overfitting, the 2.2% gap suggests the tree splits may be too specific to training data quirks rather than true species characteristics."
   ]
  },
  {
   "cell_type": "markdown",
   "id": "33acf638",
   "metadata": {
    "papermill": {
     "duration": 0.017814,
     "end_time": "2025-07-28T01:06:51.378759",
     "exception": false,
     "start_time": "2025-07-28T01:06:51.360945",
     "status": "completed"
    },
    "tags": []
   },
   "source": [
    "###  **Model 3: Random Forest**"
   ]
  },
  {
   "cell_type": "code",
   "execution_count": 29,
   "id": "b1fa950d",
   "metadata": {
    "execution": {
     "iopub.execute_input": "2025-07-28T01:06:51.415936Z",
     "iopub.status.busy": "2025-07-28T01:06:51.415579Z",
     "iopub.status.idle": "2025-07-28T01:06:51.419941Z",
     "shell.execute_reply": "2025-07-28T01:06:51.419155Z"
    },
    "papermill": {
     "duration": 0.024634,
     "end_time": "2025-07-28T01:06:51.421517",
     "exception": false,
     "start_time": "2025-07-28T01:06:51.396883",
     "status": "completed"
    },
    "tags": []
   },
   "outputs": [],
   "source": [
    "rf_model = RandomForestClassifier(random_state=0)"
   ]
  },
  {
   "cell_type": "code",
   "execution_count": 30,
   "id": "716a2855",
   "metadata": {
    "execution": {
     "iopub.execute_input": "2025-07-28T01:06:51.459262Z",
     "iopub.status.busy": "2025-07-28T01:06:51.458944Z",
     "iopub.status.idle": "2025-07-28T01:06:52.068743Z",
     "shell.execute_reply": "2025-07-28T01:06:52.067717Z"
    },
    "papermill": {
     "duration": 0.630364,
     "end_time": "2025-07-28T01:06:52.070215",
     "exception": false,
     "start_time": "2025-07-28T01:06:51.439851",
     "status": "completed"
    },
    "tags": []
   },
   "outputs": [
    {
     "name": "stdout",
     "output_type": "stream",
     "text": [
      "\n",
      "Confusion Matrix:\n"
     ]
    },
    {
     "data": {
      "image/png": "[encoded data removed]",
      "text/plain": [
       "<Figure size 1100x400 with 4 Axes>"
      ]
     },
     "metadata": {},
     "output_type": "display_data"
    },
    {
     "name": "stdout",
     "output_type": "stream",
     "text": [
      "\n",
      "Train Classification Report:\n",
      "|              |   precision |   recall |   f1-score |   support |\n",
      "|:-------------|------------:|---------:|-----------:|----------:|\n",
      "| 0            |           1 |        1 |          1 |        31 |\n",
      "| 1            |           1 |        1 |          1 |        37 |\n",
      "| 2            |           1 |        1 |          1 |        37 |\n",
      "| accuracy     |           1 |        1 |          1 |         1 |\n",
      "| macro avg    |           1 |        1 |          1 |       105 |\n",
      "| weighted avg |           1 |        1 |          1 |       105 |\n",
      "\n",
      "Test Classification Report:\n",
      "|              |   precision |   recall |   f1-score |   support |\n",
      "|:-------------|------------:|---------:|-----------:|----------:|\n",
      "| 0            |           1 |        1 |          1 |        19 |\n",
      "| 1            |           1 |        1 |          1 |        13 |\n",
      "| 2            |           1 |        1 |          1 |        13 |\n",
      "| accuracy     |           1 |        1 |          1 |         1 |\n",
      "| macro avg    |           1 |        1 |          1 |        45 |\n",
      "| weighted avg |           1 |        1 |          1 |        45 |\n"
     ]
    }
   ],
   "source": [
    "rf_score = evaluate_model(rf_model, x_train, x_test, y_train, y_test)"
   ]
  },
  {
   "cell_type": "code",
   "execution_count": 31,
   "id": "1660dfa7",
   "metadata": {
    "execution": {
     "iopub.execute_input": "2025-07-28T01:06:52.112149Z",
     "iopub.status.busy": "2025-07-28T01:06:52.111782Z",
     "iopub.status.idle": "2025-07-28T01:06:52.123553Z",
     "shell.execute_reply": "2025-07-28T01:06:52.122437Z"
    },
    "papermill": {
     "duration": 0.03534,
     "end_time": "2025-07-28T01:06:52.125083",
     "exception": false,
     "start_time": "2025-07-28T01:06:52.089743",
     "status": "completed"
    },
    "tags": []
   },
   "outputs": [
    {
     "data": {
      "text/html": [
       "<div>\n",
       "<style scoped>\n",
       "    .dataframe tbody tr th:only-of-type {\n",
       "        vertical-align: middle;\n",
       "    }\n",
       "\n",
       "    .dataframe tbody tr th {\n",
       "        vertical-align: top;\n",
       "    }\n",
       "\n",
       "    .dataframe thead th {\n",
       "        text-align: right;\n",
       "    }\n",
       "</style>\n",
       "<table border=\"1\" class=\"dataframe\">\n",
       "  <thead>\n",
       "    <tr style=\"text-align: right;\">\n",
       "      <th></th>\n",
       "      <th>Logistic regression</th>\n",
       "      <th>Decision Tree</th>\n",
       "      <th>Random Forest</th>\n",
       "    </tr>\n",
       "  </thead>\n",
       "  <tbody>\n",
       "    <tr>\n",
       "      <th>Precision Train</th>\n",
       "      <td>0.962826</td>\n",
       "      <td>1.000000</td>\n",
       "      <td>1.0</td>\n",
       "    </tr>\n",
       "    <tr>\n",
       "      <th>Precision Test</th>\n",
       "      <td>1.000000</td>\n",
       "      <td>0.979365</td>\n",
       "      <td>1.0</td>\n",
       "    </tr>\n",
       "    <tr>\n",
       "      <th>Recall Train</th>\n",
       "      <td>0.961905</td>\n",
       "      <td>1.000000</td>\n",
       "      <td>1.0</td>\n",
       "    </tr>\n",
       "    <tr>\n",
       "      <th>Recall Test</th>\n",
       "      <td>1.000000</td>\n",
       "      <td>0.977778</td>\n",
       "      <td>1.0</td>\n",
       "    </tr>\n",
       "    <tr>\n",
       "      <th>Accuracy Train</th>\n",
       "      <td>0.961905</td>\n",
       "      <td>1.000000</td>\n",
       "      <td>1.0</td>\n",
       "    </tr>\n",
       "    <tr>\n",
       "      <th>Accuracy Test</th>\n",
       "      <td>1.000000</td>\n",
       "      <td>0.977778</td>\n",
       "      <td>1.0</td>\n",
       "    </tr>\n",
       "    <tr>\n",
       "      <th>F1 macro Train</th>\n",
       "      <td>0.961877</td>\n",
       "      <td>1.000000</td>\n",
       "      <td>1.0</td>\n",
       "    </tr>\n",
       "    <tr>\n",
       "      <th>F1 macro Test</th>\n",
       "      <td>1.000000</td>\n",
       "      <td>0.977745</td>\n",
       "      <td>1.0</td>\n",
       "    </tr>\n",
       "  </tbody>\n",
       "</table>\n",
       "</div>"
      ],
      "text/plain": [
       "                 Logistic regression  Decision Tree  Random Forest\n",
       "Precision Train             0.962826       1.000000            1.0\n",
       "Precision Test              1.000000       0.979365            1.0\n",
       "Recall Train                0.961905       1.000000            1.0\n",
       "Recall Test                 1.000000       0.977778            1.0\n",
       "Accuracy Train              0.961905       1.000000            1.0\n",
       "Accuracy Test               1.000000       0.977778            1.0\n",
       "F1 macro Train              0.961877       1.000000            1.0\n",
       "F1 macro Test               1.000000       0.977745            1.0"
      ]
     },
     "execution_count": 31,
     "metadata": {},
     "output_type": "execute_result"
    }
   ],
   "source": [
    "score['Random Forest'] = rf_score\n",
    "score"
   ]
  },
  {
   "cell_type": "markdown",
   "id": "3c4e1e74",
   "metadata": {
    "papermill": {
     "duration": 0.018205,
     "end_time": "2025-07-28T01:06:52.162230",
     "exception": false,
     "start_time": "2025-07-28T01:06:52.144025",
     "status": "completed"
    },
    "tags": []
   },
   "source": [
    "**Observations:**\n",
    "* Perfect train and test (100% on all metrics) indicates flawless generalization on unseen data and complete pattern memorization."
   ]
  },
  {
   "cell_type": "markdown",
   "id": "1fbb9e0e",
   "metadata": {
    "papermill": {
     "duration": 0.018688,
     "end_time": "2025-07-28T01:06:52.199319",
     "exception": false,
     "start_time": "2025-07-28T01:06:52.180631",
     "status": "completed"
    },
    "tags": []
   },
   "source": [
    "###  **Model 4: Support Vector Machine (SVM)**"
   ]
  },
  {
   "cell_type": "code",
   "execution_count": 32,
   "id": "3207fbb1",
   "metadata": {
    "execution": {
     "iopub.execute_input": "2025-07-28T01:06:52.237807Z",
     "iopub.status.busy": "2025-07-28T01:06:52.237482Z",
     "iopub.status.idle": "2025-07-28T01:06:52.241903Z",
     "shell.execute_reply": "2025-07-28T01:06:52.240990Z"
    },
    "papermill": {
     "duration": 0.025593,
     "end_time": "2025-07-28T01:06:52.243331",
     "exception": false,
     "start_time": "2025-07-28T01:06:52.217738",
     "status": "completed"
    },
    "tags": []
   },
   "outputs": [],
   "source": [
    "svm_model = SVC(kernel='linear', random_state=0, probability=True)"
   ]
  },
  {
   "cell_type": "code",
   "execution_count": 33,
   "id": "47042cc9",
   "metadata": {
    "execution": {
     "iopub.execute_input": "2025-07-28T01:06:52.282934Z",
     "iopub.status.busy": "2025-07-28T01:06:52.282554Z",
     "iopub.status.idle": "2025-07-28T01:06:52.757052Z",
     "shell.execute_reply": "2025-07-28T01:06:52.756121Z"
    },
    "papermill": {
     "duration": 0.496482,
     "end_time": "2025-07-28T01:06:52.758557",
     "exception": false,
     "start_time": "2025-07-28T01:06:52.262075",
     "status": "completed"
    },
    "tags": []
   },
   "outputs": [
    {
     "name": "stdout",
     "output_type": "stream",
     "text": [
      "\n",
      "Confusion Matrix:\n"
     ]
    },
    {
     "data": {
      "image/png": "[encoded data removed]",
      "text/plain": [
       "<Figure size 1100x400 with 4 Axes>"
      ]
     },
     "metadata": {},
     "output_type": "display_data"
    },
    {
     "name": "stdout",
     "output_type": "stream",
     "text": [
      "\n",
      "Train Classification Report:\n",
      "|              |   precision |   recall |   f1-score |    support |\n",
      "|:-------------|------------:|---------:|-----------:|-----------:|\n",
      "| 0            |    1        | 1        |   1        |  31        |\n",
      "| 1            |    1        | 0.891892 |   0.942857 |  37        |\n",
      "| 2            |    0.902439 | 1        |   0.948718 |  37        |\n",
      "| accuracy     |    0.961905 | 0.961905 |   0.961905 |   0.961905 |\n",
      "| macro avg    |    0.96748  | 0.963964 |   0.963858 | 105        |\n",
      "| weighted avg |    0.965621 | 0.961905 |   0.961793 | 105        |\n",
      "\n",
      "Test Classification Report:\n",
      "|              |   precision |   recall |   f1-score |   support |\n",
      "|:-------------|------------:|---------:|-----------:|----------:|\n",
      "| 0            |    1        | 1        |   1        | 19        |\n",
      "| 1            |    1        | 0.923077 |   0.96     | 13        |\n",
      "| 2            |    0.928571 | 1        |   0.962963 | 13        |\n",
      "| accuracy     |    0.977778 | 0.977778 |   0.977778 |  0.977778 |\n",
      "| macro avg    |    0.97619  | 0.974359 |   0.974321 | 45        |\n",
      "| weighted avg |    0.979365 | 0.977778 |   0.977745 | 45        |\n"
     ]
    }
   ],
   "source": [
    "svm_score = evaluate_model(svm_model, x_train, x_test, y_train, y_test)"
   ]
  },
  {
   "cell_type": "code",
   "execution_count": 34,
   "id": "2adf0866",
   "metadata": {
    "execution": {
     "iopub.execute_input": "2025-07-28T01:06:52.799213Z",
     "iopub.status.busy": "2025-07-28T01:06:52.798902Z",
     "iopub.status.idle": "2025-07-28T01:06:52.810060Z",
     "shell.execute_reply": "2025-07-28T01:06:52.809363Z"
    },
    "papermill": {
     "duration": 0.032587,
     "end_time": "2025-07-28T01:06:52.811389",
     "exception": false,
     "start_time": "2025-07-28T01:06:52.778802",
     "status": "completed"
    },
    "tags": []
   },
   "outputs": [
    {
     "data": {
      "text/html": [
       "<div>\n",
       "<style scoped>\n",
       "    .dataframe tbody tr th:only-of-type {\n",
       "        vertical-align: middle;\n",
       "    }\n",
       "\n",
       "    .dataframe tbody tr th {\n",
       "        vertical-align: top;\n",
       "    }\n",
       "\n",
       "    .dataframe thead th {\n",
       "        text-align: right;\n",
       "    }\n",
       "</style>\n",
       "<table border=\"1\" class=\"dataframe\">\n",
       "  <thead>\n",
       "    <tr style=\"text-align: right;\">\n",
       "      <th></th>\n",
       "      <th>Logistic regression</th>\n",
       "      <th>Decision Tree</th>\n",
       "      <th>Random Forest</th>\n",
       "      <th>SVM</th>\n",
       "    </tr>\n",
       "  </thead>\n",
       "  <tbody>\n",
       "    <tr>\n",
       "      <th>Precision Train</th>\n",
       "      <td>0.962826</td>\n",
       "      <td>1.000000</td>\n",
       "      <td>1.0</td>\n",
       "      <td>0.965621</td>\n",
       "    </tr>\n",
       "    <tr>\n",
       "      <th>Precision Test</th>\n",
       "      <td>1.000000</td>\n",
       "      <td>0.979365</td>\n",
       "      <td>1.0</td>\n",
       "      <td>0.979365</td>\n",
       "    </tr>\n",
       "    <tr>\n",
       "      <th>Recall Train</th>\n",
       "      <td>0.961905</td>\n",
       "      <td>1.000000</td>\n",
       "      <td>1.0</td>\n",
       "      <td>0.961905</td>\n",
       "    </tr>\n",
       "    <tr>\n",
       "      <th>Recall Test</th>\n",
       "      <td>1.000000</td>\n",
       "      <td>0.977778</td>\n",
       "      <td>1.0</td>\n",
       "      <td>0.977778</td>\n",
       "    </tr>\n",
       "    <tr>\n",
       "      <th>Accuracy Train</th>\n",
       "      <td>0.961905</td>\n",
       "      <td>1.000000</td>\n",
       "      <td>1.0</td>\n",
       "      <td>0.961905</td>\n",
       "    </tr>\n",
       "    <tr>\n",
       "      <th>Accuracy Test</th>\n",
       "      <td>1.000000</td>\n",
       "      <td>0.977778</td>\n",
       "      <td>1.0</td>\n",
       "      <td>0.977778</td>\n",
       "    </tr>\n",
       "    <tr>\n",
       "      <th>F1 macro Train</th>\n",
       "      <td>0.961877</td>\n",
       "      <td>1.000000</td>\n",
       "      <td>1.0</td>\n",
       "      <td>0.961793</td>\n",
       "    </tr>\n",
       "    <tr>\n",
       "      <th>F1 macro Test</th>\n",
       "      <td>1.000000</td>\n",
       "      <td>0.977745</td>\n",
       "      <td>1.0</td>\n",
       "      <td>0.977745</td>\n",
       "    </tr>\n",
       "  </tbody>\n",
       "</table>\n",
       "</div>"
      ],
      "text/plain": [
       "                 Logistic regression  Decision Tree  Random Forest       SVM\n",
       "Precision Train             0.962826       1.000000            1.0  0.965621\n",
       "Precision Test              1.000000       0.979365            1.0  0.979365\n",
       "Recall Train                0.961905       1.000000            1.0  0.961905\n",
       "Recall Test                 1.000000       0.977778            1.0  0.977778\n",
       "Accuracy Train              0.961905       1.000000            1.0  0.961905\n",
       "Accuracy Test               1.000000       0.977778            1.0  0.977778\n",
       "F1 macro Train              0.961877       1.000000            1.0  0.961793\n",
       "F1 macro Test               1.000000       0.977745            1.0  0.977745"
      ]
     },
     "execution_count": 34,
     "metadata": {},
     "output_type": "execute_result"
    }
   ],
   "source": [
    "score['SVM'] = svm_score\n",
    "score"
   ]
  },
  {
   "cell_type": "markdown",
   "id": "59af1a22",
   "metadata": {
    "papermill": {
     "duration": 0.019224,
     "end_time": "2025-07-28T01:06:52.850282",
     "exception": false,
     "start_time": "2025-07-28T01:06:52.831058",
     "status": "completed"
    },
    "tags": []
   },
   "source": [
    "**Observations:**\n",
    "* Strong test performance (97.8% on all metrics) demonstrates effective generalization to unseen data.\n",
    "* The slightly higher test scores compared to training (96.2%) suggest beneficial regularization - the model maintains conservative decision margins that prevent overfitting while capturing the essential class boundaries."
   ]
  },
  {
   "cell_type": "markdown",
   "id": "46749248",
   "metadata": {
    "papermill": {
     "duration": 0.019283,
     "end_time": "2025-07-28T01:06:52.888934",
     "exception": false,
     "start_time": "2025-07-28T01:06:52.869651",
     "status": "completed"
    },
    "tags": []
   },
   "source": [
    "###  **Model 5: Xtreme Gradient Boosting**"
   ]
  },
  {
   "cell_type": "code",
   "execution_count": 35,
   "id": "bf290c23",
   "metadata": {
    "execution": {
     "iopub.execute_input": "2025-07-28T01:06:52.929718Z",
     "iopub.status.busy": "2025-07-28T01:06:52.929375Z",
     "iopub.status.idle": "2025-07-28T01:06:52.933573Z",
     "shell.execute_reply": "2025-07-28T01:06:52.932758Z"
    },
    "papermill": {
     "duration": 0.026339,
     "end_time": "2025-07-28T01:06:52.935111",
     "exception": false,
     "start_time": "2025-07-28T01:06:52.908772",
     "status": "completed"
    },
    "tags": []
   },
   "outputs": [],
   "source": [
    "xgb_model = xgb.XGBClassifier()"
   ]
  },
  {
   "cell_type": "code",
   "execution_count": 36,
   "id": "f9c25115",
   "metadata": {
    "execution": {
     "iopub.execute_input": "2025-07-28T01:06:52.977111Z",
     "iopub.status.busy": "2025-07-28T01:06:52.976736Z",
     "iopub.status.idle": "2025-07-28T01:06:53.554160Z",
     "shell.execute_reply": "2025-07-28T01:06:53.553144Z"
    },
    "papermill": {
     "duration": 0.599534,
     "end_time": "2025-07-28T01:06:53.555708",
     "exception": false,
     "start_time": "2025-07-28T01:06:52.956174",
     "status": "completed"
    },
    "tags": []
   },
   "outputs": [
    {
     "name": "stdout",
     "output_type": "stream",
     "text": [
      "\n",
      "Confusion Matrix:\n"
     ]
    },
    {
     "data": {
      "image/png": "[encoded data removed]",
      "text/plain": [
       "<Figure size 1100x400 with 4 Axes>"
      ]
     },
     "metadata": {},
     "output_type": "display_data"
    },
    {
     "name": "stdout",
     "output_type": "stream",
     "text": [
      "\n",
      "Train Classification Report:\n",
      "|              |   precision |   recall |   f1-score |   support |\n",
      "|:-------------|------------:|---------:|-----------:|----------:|\n",
      "| 0            |           1 |        1 |          1 |        31 |\n",
      "| 1            |           1 |        1 |          1 |        37 |\n",
      "| 2            |           1 |        1 |          1 |        37 |\n",
      "| accuracy     |           1 |        1 |          1 |         1 |\n",
      "| macro avg    |           1 |        1 |          1 |       105 |\n",
      "| weighted avg |           1 |        1 |          1 |       105 |\n",
      "\n",
      "Test Classification Report:\n",
      "|              |   precision |   recall |   f1-score |   support |\n",
      "|:-------------|------------:|---------:|-----------:|----------:|\n",
      "| 0            |           1 |        1 |          1 |        19 |\n",
      "| 1            |           1 |        1 |          1 |        13 |\n",
      "| 2            |           1 |        1 |          1 |        13 |\n",
      "| accuracy     |           1 |        1 |          1 |         1 |\n",
      "| macro avg    |           1 |        1 |          1 |        45 |\n",
      "| weighted avg |           1 |        1 |          1 |        45 |\n"
     ]
    }
   ],
   "source": [
    "xgb_score = evaluate_model(xgb_model, x_train, x_test, y_train, y_test)"
   ]
  },
  {
   "cell_type": "code",
   "execution_count": 37,
   "id": "244ed101",
   "metadata": {
    "execution": {
     "iopub.execute_input": "2025-07-28T01:06:53.599124Z",
     "iopub.status.busy": "2025-07-28T01:06:53.598219Z",
     "iopub.status.idle": "2025-07-28T01:06:53.610684Z",
     "shell.execute_reply": "2025-07-28T01:06:53.609671Z"
    },
    "papermill": {
     "duration": 0.035175,
     "end_time": "2025-07-28T01:06:53.612212",
     "exception": false,
     "start_time": "2025-07-28T01:06:53.577037",
     "status": "completed"
    },
    "tags": []
   },
   "outputs": [
    {
     "data": {
      "text/html": [
       "<div>\n",
       "<style scoped>\n",
       "    .dataframe tbody tr th:only-of-type {\n",
       "        vertical-align: middle;\n",
       "    }\n",
       "\n",
       "    .dataframe tbody tr th {\n",
       "        vertical-align: top;\n",
       "    }\n",
       "\n",
       "    .dataframe thead th {\n",
       "        text-align: right;\n",
       "    }\n",
       "</style>\n",
       "<table border=\"1\" class=\"dataframe\">\n",
       "  <thead>\n",
       "    <tr style=\"text-align: right;\">\n",
       "      <th></th>\n",
       "      <th>Logistic regression</th>\n",
       "      <th>Decision Tree</th>\n",
       "      <th>Random Forest</th>\n",
       "      <th>SVM</th>\n",
       "      <th>XGB</th>\n",
       "    </tr>\n",
       "  </thead>\n",
       "  <tbody>\n",
       "    <tr>\n",
       "      <th>Precision Train</th>\n",
       "      <td>0.962826</td>\n",
       "      <td>1.000000</td>\n",
       "      <td>1.0</td>\n",
       "      <td>0.965621</td>\n",
       "      <td>1.0</td>\n",
       "    </tr>\n",
       "    <tr>\n",
       "      <th>Precision Test</th>\n",
       "      <td>1.000000</td>\n",
       "      <td>0.979365</td>\n",
       "      <td>1.0</td>\n",
       "      <td>0.979365</td>\n",
       "      <td>1.0</td>\n",
       "    </tr>\n",
       "    <tr>\n",
       "      <th>Recall Train</th>\n",
       "      <td>0.961905</td>\n",
       "      <td>1.000000</td>\n",
       "      <td>1.0</td>\n",
       "      <td>0.961905</td>\n",
       "      <td>1.0</td>\n",
       "    </tr>\n",
       "    <tr>\n",
       "      <th>Recall Test</th>\n",
       "      <td>1.000000</td>\n",
       "      <td>0.977778</td>\n",
       "      <td>1.0</td>\n",
       "      <td>0.977778</td>\n",
       "      <td>1.0</td>\n",
       "    </tr>\n",
       "    <tr>\n",
       "      <th>Accuracy Train</th>\n",
       "      <td>0.961905</td>\n",
       "      <td>1.000000</td>\n",
       "      <td>1.0</td>\n",
       "      <td>0.961905</td>\n",
       "      <td>1.0</td>\n",
       "    </tr>\n",
       "    <tr>\n",
       "      <th>Accuracy Test</th>\n",
       "      <td>1.000000</td>\n",
       "      <td>0.977778</td>\n",
       "      <td>1.0</td>\n",
       "      <td>0.977778</td>\n",
       "      <td>1.0</td>\n",
       "    </tr>\n",
       "    <tr>\n",
       "      <th>F1 macro Train</th>\n",
       "      <td>0.961877</td>\n",
       "      <td>1.000000</td>\n",
       "      <td>1.0</td>\n",
       "      <td>0.961793</td>\n",
       "      <td>1.0</td>\n",
       "    </tr>\n",
       "    <tr>\n",
       "      <th>F1 macro Test</th>\n",
       "      <td>1.000000</td>\n",
       "      <td>0.977745</td>\n",
       "      <td>1.0</td>\n",
       "      <td>0.977745</td>\n",
       "      <td>1.0</td>\n",
       "    </tr>\n",
       "  </tbody>\n",
       "</table>\n",
       "</div>"
      ],
      "text/plain": [
       "                 Logistic regression  Decision Tree  Random Forest       SVM  \\\n",
       "Precision Train             0.962826       1.000000            1.0  0.965621   \n",
       "Precision Test              1.000000       0.979365            1.0  0.979365   \n",
       "Recall Train                0.961905       1.000000            1.0  0.961905   \n",
       "Recall Test                 1.000000       0.977778            1.0  0.977778   \n",
       "Accuracy Train              0.961905       1.000000            1.0  0.961905   \n",
       "Accuracy Test               1.000000       0.977778            1.0  0.977778   \n",
       "F1 macro Train              0.961877       1.000000            1.0  0.961793   \n",
       "F1 macro Test               1.000000       0.977745            1.0  0.977745   \n",
       "\n",
       "                 XGB  \n",
       "Precision Train  1.0  \n",
       "Precision Test   1.0  \n",
       "Recall Train     1.0  \n",
       "Recall Test      1.0  \n",
       "Accuracy Train   1.0  \n",
       "Accuracy Test    1.0  \n",
       "F1 macro Train   1.0  \n",
       "F1 macro Test    1.0  "
      ]
     },
     "execution_count": 37,
     "metadata": {},
     "output_type": "execute_result"
    }
   ],
   "source": [
    "score['XGB'] = xgb_score\n",
    "score"
   ]
  },
  {
   "cell_type": "markdown",
   "id": "8c15bc05",
   "metadata": {
    "papermill": {
     "duration": 0.019879,
     "end_time": "2025-07-28T01:06:53.652989",
     "exception": false,
     "start_time": "2025-07-28T01:06:53.633110",
     "status": "completed"
    },
    "tags": []
   },
   "source": [
    "**Observations:**\n",
    "* Perfect train and test (100% on all metrics) indicates flawless generalization on unseen data and complete pattern memorization."
   ]
  },
  {
   "cell_type": "markdown",
   "id": "9bc519df",
   "metadata": {
    "papermill": {
     "duration": 0.019473,
     "end_time": "2025-07-28T01:06:53.692260",
     "exception": false,
     "start_time": "2025-07-28T01:06:53.672787",
     "status": "completed"
    },
    "tags": []
   },
   "source": [
    "###  **Model 6: Naive Bayes**"
   ]
  },
  {
   "cell_type": "code",
   "execution_count": 38,
   "id": "da38be84",
   "metadata": {
    "execution": {
     "iopub.execute_input": "2025-07-28T01:06:53.733940Z",
     "iopub.status.busy": "2025-07-28T01:06:53.733594Z",
     "iopub.status.idle": "2025-07-28T01:06:53.737765Z",
     "shell.execute_reply": "2025-07-28T01:06:53.736871Z"
    },
    "papermill": {
     "duration": 0.026922,
     "end_time": "2025-07-28T01:06:53.739319",
     "exception": false,
     "start_time": "2025-07-28T01:06:53.712397",
     "status": "completed"
    },
    "tags": []
   },
   "outputs": [],
   "source": [
    "nb_model = GaussianNB()"
   ]
  },
  {
   "cell_type": "code",
   "execution_count": 39,
   "id": "ad763d70",
   "metadata": {
    "execution": {
     "iopub.execute_input": "2025-07-28T01:06:53.781831Z",
     "iopub.status.busy": "2025-07-28T01:06:53.781418Z",
     "iopub.status.idle": "2025-07-28T01:06:54.292005Z",
     "shell.execute_reply": "2025-07-28T01:06:54.291055Z"
    },
    "papermill": {
     "duration": 0.533461,
     "end_time": "2025-07-28T01:06:54.293578",
     "exception": false,
     "start_time": "2025-07-28T01:06:53.760117",
     "status": "completed"
    },
    "tags": []
   },
   "outputs": [
    {
     "name": "stdout",
     "output_type": "stream",
     "text": [
      "\n",
      "Confusion Matrix:\n"
     ]
    },
    {
     "data": {
      "image/png": "[encoded data removed]",
      "text/plain": [
       "<Figure size 1100x400 with 4 Axes>"
      ]
     },
     "metadata": {},
     "output_type": "display_data"
    },
    {
     "name": "stdout",
     "output_type": "stream",
     "text": [
      "\n",
      "Train Classification Report:\n",
      "|              |   precision |   recall |   f1-score |    support |\n",
      "|:-------------|------------:|---------:|-----------:|-----------:|\n",
      "| 0            |    1        | 1        |   1        |  31        |\n",
      "| 1            |    0.971429 | 0.918919 |   0.944444 |  37        |\n",
      "| 2            |    0.923077 | 0.972973 |   0.947368 |  37        |\n",
      "| accuracy     |    0.961905 | 0.961905 |   0.961905 |   0.961905 |\n",
      "| macro avg    |    0.964835 | 0.963964 |   0.963938 | 105        |\n",
      "| weighted avg |    0.962826 | 0.961905 |   0.961877 | 105        |\n",
      "\n",
      "Test Classification Report:\n",
      "|              |   precision |   recall |   f1-score |   support |\n",
      "|:-------------|------------:|---------:|-----------:|----------:|\n",
      "| 0            |           1 |        1 |          1 |        19 |\n",
      "| 1            |           1 |        1 |          1 |        13 |\n",
      "| 2            |           1 |        1 |          1 |        13 |\n",
      "| accuracy     |           1 |        1 |          1 |         1 |\n",
      "| macro avg    |           1 |        1 |          1 |        45 |\n",
      "| weighted avg |           1 |        1 |          1 |        45 |\n"
     ]
    }
   ],
   "source": [
    "nb_score = evaluate_model(nb_model, x_train, x_test, y_train, y_test)"
   ]
  },
  {
   "cell_type": "code",
   "execution_count": 40,
   "id": "55141ee6",
   "metadata": {
    "execution": {
     "iopub.execute_input": "2025-07-28T01:06:54.338588Z",
     "iopub.status.busy": "2025-07-28T01:06:54.337793Z",
     "iopub.status.idle": "2025-07-28T01:06:54.350197Z",
     "shell.execute_reply": "2025-07-28T01:06:54.349429Z"
    },
    "papermill": {
     "duration": 0.035797,
     "end_time": "2025-07-28T01:06:54.351610",
     "exception": false,
     "start_time": "2025-07-28T01:06:54.315813",
     "status": "completed"
    },
    "tags": []
   },
   "outputs": [
    {
     "data": {
      "text/html": [
       "<div>\n",
       "<style scoped>\n",
       "    .dataframe tbody tr th:only-of-type {\n",
       "        vertical-align: middle;\n",
       "    }\n",
       "\n",
       "    .dataframe tbody tr th {\n",
       "        vertical-align: top;\n",
       "    }\n",
       "\n",
       "    .dataframe thead th {\n",
       "        text-align: right;\n",
       "    }\n",
       "</style>\n",
       "<table border=\"1\" class=\"dataframe\">\n",
       "  <thead>\n",
       "    <tr style=\"text-align: right;\">\n",
       "      <th></th>\n",
       "      <th>Logistic regression</th>\n",
       "      <th>Decision Tree</th>\n",
       "      <th>Random Forest</th>\n",
       "      <th>SVM</th>\n",
       "      <th>XGB</th>\n",
       "      <th>Naive Bayes</th>\n",
       "    </tr>\n",
       "  </thead>\n",
       "  <tbody>\n",
       "    <tr>\n",
       "      <th>Precision Train</th>\n",
       "      <td>0.962826</td>\n",
       "      <td>1.000000</td>\n",
       "      <td>1.0</td>\n",
       "      <td>0.965621</td>\n",
       "      <td>1.0</td>\n",
       "      <td>0.962826</td>\n",
       "    </tr>\n",
       "    <tr>\n",
       "      <th>Precision Test</th>\n",
       "      <td>1.000000</td>\n",
       "      <td>0.979365</td>\n",
       "      <td>1.0</td>\n",
       "      <td>0.979365</td>\n",
       "      <td>1.0</td>\n",
       "      <td>1.000000</td>\n",
       "    </tr>\n",
       "    <tr>\n",
       "      <th>Recall Train</th>\n",
       "      <td>0.961905</td>\n",
       "      <td>1.000000</td>\n",
       "      <td>1.0</td>\n",
       "      <td>0.961905</td>\n",
       "      <td>1.0</td>\n",
       "      <td>0.961905</td>\n",
       "    </tr>\n",
       "    <tr>\n",
       "      <th>Recall Test</th>\n",
       "      <td>1.000000</td>\n",
       "      <td>0.977778</td>\n",
       "      <td>1.0</td>\n",
       "      <td>0.977778</td>\n",
       "      <td>1.0</td>\n",
       "      <td>1.000000</td>\n",
       "    </tr>\n",
       "    <tr>\n",
       "      <th>Accuracy Train</th>\n",
       "      <td>0.961905</td>\n",
       "      <td>1.000000</td>\n",
       "      <td>1.0</td>\n",
       "      <td>0.961905</td>\n",
       "      <td>1.0</td>\n",
       "      <td>0.961905</td>\n",
       "    </tr>\n",
       "    <tr>\n",
       "      <th>Accuracy Test</th>\n",
       "      <td>1.000000</td>\n",
       "      <td>0.977778</td>\n",
       "      <td>1.0</td>\n",
       "      <td>0.977778</td>\n",
       "      <td>1.0</td>\n",
       "      <td>1.000000</td>\n",
       "    </tr>\n",
       "    <tr>\n",
       "      <th>F1 macro Train</th>\n",
       "      <td>0.961877</td>\n",
       "      <td>1.000000</td>\n",
       "      <td>1.0</td>\n",
       "      <td>0.961793</td>\n",
       "      <td>1.0</td>\n",
       "      <td>0.961877</td>\n",
       "    </tr>\n",
       "    <tr>\n",
       "      <th>F1 macro Test</th>\n",
       "      <td>1.000000</td>\n",
       "      <td>0.977745</td>\n",
       "      <td>1.0</td>\n",
       "      <td>0.977745</td>\n",
       "      <td>1.0</td>\n",
       "      <td>1.000000</td>\n",
       "    </tr>\n",
       "  </tbody>\n",
       "</table>\n",
       "</div>"
      ],
      "text/plain": [
       "                 Logistic regression  Decision Tree  Random Forest       SVM  \\\n",
       "Precision Train             0.962826       1.000000            1.0  0.965621   \n",
       "Precision Test              1.000000       0.979365            1.0  0.979365   \n",
       "Recall Train                0.961905       1.000000            1.0  0.961905   \n",
       "Recall Test                 1.000000       0.977778            1.0  0.977778   \n",
       "Accuracy Train              0.961905       1.000000            1.0  0.961905   \n",
       "Accuracy Test               1.000000       0.977778            1.0  0.977778   \n",
       "F1 macro Train              0.961877       1.000000            1.0  0.961793   \n",
       "F1 macro Test               1.000000       0.977745            1.0  0.977745   \n",
       "\n",
       "                 XGB  Naive Bayes  \n",
       "Precision Train  1.0     0.962826  \n",
       "Precision Test   1.0     1.000000  \n",
       "Recall Train     1.0     0.961905  \n",
       "Recall Test      1.0     1.000000  \n",
       "Accuracy Train   1.0     0.961905  \n",
       "Accuracy Test    1.0     1.000000  \n",
       "F1 macro Train   1.0     0.961877  \n",
       "F1 macro Test    1.0     1.000000  "
      ]
     },
     "execution_count": 40,
     "metadata": {},
     "output_type": "execute_result"
    }
   ],
   "source": [
    "score['Naive Bayes'] = nb_score\n",
    "score"
   ]
  },
  {
   "cell_type": "markdown",
   "id": "6a61b654",
   "metadata": {
    "papermill": {
     "duration": 0.021625,
     "end_time": "2025-07-28T01:06:54.395017",
     "exception": false,
     "start_time": "2025-07-28T01:06:54.373392",
     "status": "completed"
    },
    "tags": []
   },
   "source": [
    "**Observations:**\n",
    "* Perfect test performance (100% on all metrics) indicates flawless generalization to unseen data.\n",
    "* Slightly lower training metrics (~96%) suggest mild underfitting, which is preferable to overfitting for this particular dataset."
   ]
  },
  {
   "cell_type": "markdown",
   "id": "7de69ce7",
   "metadata": {
    "papermill": {
     "duration": 0.021044,
     "end_time": "2025-07-28T01:06:54.437225",
     "exception": false,
     "start_time": "2025-07-28T01:06:54.416181",
     "status": "completed"
    },
    "tags": []
   },
   "source": [
    "###  **Model 7: Neural Network**"
   ]
  },
  {
   "cell_type": "code",
   "execution_count": 41,
   "id": "251309d9",
   "metadata": {
    "execution": {
     "iopub.execute_input": "2025-07-28T01:06:54.481611Z",
     "iopub.status.busy": "2025-07-28T01:06:54.481324Z",
     "iopub.status.idle": "2025-07-28T01:06:54.485455Z",
     "shell.execute_reply": "2025-07-28T01:06:54.484702Z"
    },
    "papermill": {
     "duration": 0.028081,
     "end_time": "2025-07-28T01:06:54.486980",
     "exception": false,
     "start_time": "2025-07-28T01:06:54.458899",
     "status": "completed"
    },
    "tags": []
   },
   "outputs": [],
   "source": [
    "nn_model = MLPClassifier(random_state=0)"
   ]
  },
  {
   "cell_type": "code",
   "execution_count": 42,
   "id": "13a022dc",
   "metadata": {
    "execution": {
     "iopub.execute_input": "2025-07-28T01:06:54.531681Z",
     "iopub.status.busy": "2025-07-28T01:06:54.531353Z",
     "iopub.status.idle": "2025-07-28T01:06:55.127179Z",
     "shell.execute_reply": "2025-07-28T01:06:55.126265Z"
    },
    "papermill": {
     "duration": 0.619881,
     "end_time": "2025-07-28T01:06:55.128694",
     "exception": false,
     "start_time": "2025-07-28T01:06:54.508813",
     "status": "completed"
    },
    "tags": []
   },
   "outputs": [
    {
     "name": "stdout",
     "output_type": "stream",
     "text": [
      "\n",
      "Confusion Matrix:\n"
     ]
    },
    {
     "data": {
      "image/png": "[encoded data removed]",
      "text/plain": [
       "<Figure size 1100x400 with 4 Axes>"
      ]
     },
     "metadata": {},
     "output_type": "display_data"
    },
    {
     "name": "stdout",
     "output_type": "stream",
     "text": [
      "\n",
      "Train Classification Report:\n",
      "|              |   precision |   recall |   f1-score |    support |\n",
      "|:-------------|------------:|---------:|-----------:|-----------:|\n",
      "| 0            |    1        | 1        |   1        |  31        |\n",
      "| 1            |    0.971429 | 0.918919 |   0.944444 |  37        |\n",
      "| 2            |    0.923077 | 0.972973 |   0.947368 |  37        |\n",
      "| accuracy     |    0.961905 | 0.961905 |   0.961905 |   0.961905 |\n",
      "| macro avg    |    0.964835 | 0.963964 |   0.963938 | 105        |\n",
      "| weighted avg |    0.962826 | 0.961905 |   0.961877 | 105        |\n",
      "\n",
      "Test Classification Report:\n",
      "|              |   precision |   recall |   f1-score |   support |\n",
      "|:-------------|------------:|---------:|-----------:|----------:|\n",
      "| 0            |           1 |        1 |          1 |        19 |\n",
      "| 1            |           1 |        1 |          1 |        13 |\n",
      "| 2            |           1 |        1 |          1 |        13 |\n",
      "| accuracy     |           1 |        1 |          1 |         1 |\n",
      "| macro avg    |           1 |        1 |          1 |        45 |\n",
      "| weighted avg |           1 |        1 |          1 |        45 |\n"
     ]
    }
   ],
   "source": [
    "neural_score = evaluate_model(nn_model, x_train, x_test, y_train, y_test)"
   ]
  },
  {
   "cell_type": "code",
   "execution_count": 43,
   "id": "7909433d",
   "metadata": {
    "execution": {
     "iopub.execute_input": "2025-07-28T01:06:55.175280Z",
     "iopub.status.busy": "2025-07-28T01:06:55.174964Z",
     "iopub.status.idle": "2025-07-28T01:06:55.188382Z",
     "shell.execute_reply": "2025-07-28T01:06:55.187437Z"
    },
    "papermill": {
     "duration": 0.037903,
     "end_time": "2025-07-28T01:06:55.189761",
     "exception": false,
     "start_time": "2025-07-28T01:06:55.151858",
     "status": "completed"
    },
    "tags": []
   },
   "outputs": [
    {
     "data": {
      "text/html": [
       "<div>\n",
       "<style scoped>\n",
       "    .dataframe tbody tr th:only-of-type {\n",
       "        vertical-align: middle;\n",
       "    }\n",
       "\n",
       "    .dataframe tbody tr th {\n",
       "        vertical-align: top;\n",
       "    }\n",
       "\n",
       "    .dataframe thead th {\n",
       "        text-align: right;\n",
       "    }\n",
       "</style>\n",
       "<table border=\"1\" class=\"dataframe\">\n",
       "  <thead>\n",
       "    <tr style=\"text-align: right;\">\n",
       "      <th></th>\n",
       "      <th>Logistic regression</th>\n",
       "      <th>Decision Tree</th>\n",
       "      <th>Random Forest</th>\n",
       "      <th>SVM</th>\n",
       "      <th>XGB</th>\n",
       "      <th>Naive Bayes</th>\n",
       "      <th>Neural Network</th>\n",
       "    </tr>\n",
       "  </thead>\n",
       "  <tbody>\n",
       "    <tr>\n",
       "      <th>Precision Train</th>\n",
       "      <td>0.962826</td>\n",
       "      <td>1.000000</td>\n",
       "      <td>1.0</td>\n",
       "      <td>0.965621</td>\n",
       "      <td>1.0</td>\n",
       "      <td>0.962826</td>\n",
       "      <td>0.962826</td>\n",
       "    </tr>\n",
       "    <tr>\n",
       "      <th>Precision Test</th>\n",
       "      <td>1.000000</td>\n",
       "      <td>0.979365</td>\n",
       "      <td>1.0</td>\n",
       "      <td>0.979365</td>\n",
       "      <td>1.0</td>\n",
       "      <td>1.000000</td>\n",
       "      <td>1.000000</td>\n",
       "    </tr>\n",
       "    <tr>\n",
       "      <th>Recall Train</th>\n",
       "      <td>0.961905</td>\n",
       "      <td>1.000000</td>\n",
       "      <td>1.0</td>\n",
       "      <td>0.961905</td>\n",
       "      <td>1.0</td>\n",
       "      <td>0.961905</td>\n",
       "      <td>0.961905</td>\n",
       "    </tr>\n",
       "    <tr>\n",
       "      <th>Recall Test</th>\n",
       "      <td>1.000000</td>\n",
       "      <td>0.977778</td>\n",
       "      <td>1.0</td>\n",
       "      <td>0.977778</td>\n",
       "      <td>1.0</td>\n",
       "      <td>1.000000</td>\n",
       "      <td>1.000000</td>\n",
       "    </tr>\n",
       "    <tr>\n",
       "      <th>Accuracy Train</th>\n",
       "      <td>0.961905</td>\n",
       "      <td>1.000000</td>\n",
       "      <td>1.0</td>\n",
       "      <td>0.961905</td>\n",
       "      <td>1.0</td>\n",
       "      <td>0.961905</td>\n",
       "      <td>0.961905</td>\n",
       "    </tr>\n",
       "    <tr>\n",
       "      <th>Accuracy Test</th>\n",
       "      <td>1.000000</td>\n",
       "      <td>0.977778</td>\n",
       "      <td>1.0</td>\n",
       "      <td>0.977778</td>\n",
       "      <td>1.0</td>\n",
       "      <td>1.000000</td>\n",
       "      <td>1.000000</td>\n",
       "    </tr>\n",
       "    <tr>\n",
       "      <th>F1 macro Train</th>\n",
       "      <td>0.961877</td>\n",
       "      <td>1.000000</td>\n",
       "      <td>1.0</td>\n",
       "      <td>0.961793</td>\n",
       "      <td>1.0</td>\n",
       "      <td>0.961877</td>\n",
       "      <td>0.961877</td>\n",
       "    </tr>\n",
       "    <tr>\n",
       "      <th>F1 macro Test</th>\n",
       "      <td>1.000000</td>\n",
       "      <td>0.977745</td>\n",
       "      <td>1.0</td>\n",
       "      <td>0.977745</td>\n",
       "      <td>1.0</td>\n",
       "      <td>1.000000</td>\n",
       "      <td>1.000000</td>\n",
       "    </tr>\n",
       "  </tbody>\n",
       "</table>\n",
       "</div>"
      ],
      "text/plain": [
       "                 Logistic regression  Decision Tree  Random Forest       SVM  \\\n",
       "Precision Train             0.962826       1.000000            1.0  0.965621   \n",
       "Precision Test              1.000000       0.979365            1.0  0.979365   \n",
       "Recall Train                0.961905       1.000000            1.0  0.961905   \n",
       "Recall Test                 1.000000       0.977778            1.0  0.977778   \n",
       "Accuracy Train              0.961905       1.000000            1.0  0.961905   \n",
       "Accuracy Test               1.000000       0.977778            1.0  0.977778   \n",
       "F1 macro Train              0.961877       1.000000            1.0  0.961793   \n",
       "F1 macro Test               1.000000       0.977745            1.0  0.977745   \n",
       "\n",
       "                 XGB  Naive Bayes  Neural Network  \n",
       "Precision Train  1.0     0.962826        0.962826  \n",
       "Precision Test   1.0     1.000000        1.000000  \n",
       "Recall Train     1.0     0.961905        0.961905  \n",
       "Recall Test      1.0     1.000000        1.000000  \n",
       "Accuracy Train   1.0     0.961905        0.961905  \n",
       "Accuracy Test    1.0     1.000000        1.000000  \n",
       "F1 macro Train   1.0     0.961877        0.961877  \n",
       "F1 macro Test    1.0     1.000000        1.000000  "
      ]
     },
     "execution_count": 43,
     "metadata": {},
     "output_type": "execute_result"
    }
   ],
   "source": [
    "score['Neural Network'] = neural_score\n",
    "score"
   ]
  },
  {
   "cell_type": "markdown",
   "id": "d73d98e1",
   "metadata": {
    "papermill": {
     "duration": 0.021948,
     "end_time": "2025-07-28T01:06:55.233887",
     "exception": false,
     "start_time": "2025-07-28T01:06:55.211939",
     "status": "completed"
    },
    "tags": []
   },
   "source": [
    "**Observations:**\n",
    "* Perfect test performance (100% on all metrics) indicates flawless generalization to unseen data.\n",
    "* Slightly lower training metrics (~96%) suggest mild underfitting, which is preferable to overfitting for this particular dataset."
   ]
  },
  {
   "cell_type": "markdown",
   "id": "ca9cfaa0",
   "metadata": {
    "papermill": {
     "duration": 0.021661,
     "end_time": "2025-07-28T01:06:55.277533",
     "exception": false,
     "start_time": "2025-07-28T01:06:55.255872",
     "status": "completed"
    },
    "tags": []
   },
   "source": [
    "###  **Model 8: k-Nearest Neighbor**"
   ]
  },
  {
   "cell_type": "code",
   "execution_count": 44,
   "id": "d555435d",
   "metadata": {
    "execution": {
     "iopub.execute_input": "2025-07-28T01:06:55.323074Z",
     "iopub.status.busy": "2025-07-28T01:06:55.322237Z",
     "iopub.status.idle": "2025-07-28T01:06:55.326532Z",
     "shell.execute_reply": "2025-07-28T01:06:55.325842Z"
    },
    "papermill": {
     "duration": 0.028469,
     "end_time": "2025-07-28T01:06:55.327945",
     "exception": false,
     "start_time": "2025-07-28T01:06:55.299476",
     "status": "completed"
    },
    "tags": []
   },
   "outputs": [],
   "source": [
    "knn_model = KNeighborsClassifier() "
   ]
  },
  {
   "cell_type": "code",
   "execution_count": 45,
   "id": "2960b533",
   "metadata": {
    "execution": {
     "iopub.execute_input": "2025-07-28T01:06:55.373279Z",
     "iopub.status.busy": "2025-07-28T01:06:55.372978Z",
     "iopub.status.idle": "2025-07-28T01:06:56.135225Z",
     "shell.execute_reply": "2025-07-28T01:06:56.134199Z"
    },
    "papermill": {
     "duration": 0.786542,
     "end_time": "2025-07-28T01:06:56.136713",
     "exception": false,
     "start_time": "2025-07-28T01:06:55.350171",
     "status": "completed"
    },
    "tags": []
   },
   "outputs": [
    {
     "name": "stdout",
     "output_type": "stream",
     "text": [
      "\n",
      "Confusion Matrix:\n"
     ]
    },
    {
     "data": {
      "image/png": "[encoded data removed]",
      "text/plain": [
       "<Figure size 1100x400 with 4 Axes>"
      ]
     },
     "metadata": {},
     "output_type": "display_data"
    },
    {
     "name": "stdout",
     "output_type": "stream",
     "text": [
      "\n",
      "Train Classification Report:\n",
      "|              |   precision |   recall |   f1-score |    support |\n",
      "|:-------------|------------:|---------:|-----------:|-----------:|\n",
      "| 0            |    1        | 1        |   1        |  31        |\n",
      "| 1            |    0.971429 | 0.918919 |   0.944444 |  37        |\n",
      "| 2            |    0.923077 | 0.972973 |   0.947368 |  37        |\n",
      "| accuracy     |    0.961905 | 0.961905 |   0.961905 |   0.961905 |\n",
      "| macro avg    |    0.964835 | 0.963964 |   0.963938 | 105        |\n",
      "| weighted avg |    0.962826 | 0.961905 |   0.961877 | 105        |\n",
      "\n",
      "Test Classification Report:\n",
      "|              |   precision |   recall |   f1-score |   support |\n",
      "|:-------------|------------:|---------:|-----------:|----------:|\n",
      "| 0            |           1 |        1 |          1 |        19 |\n",
      "| 1            |           1 |        1 |          1 |        13 |\n",
      "| 2            |           1 |        1 |          1 |        13 |\n",
      "| accuracy     |           1 |        1 |          1 |         1 |\n",
      "| macro avg    |           1 |        1 |          1 |        45 |\n",
      "| weighted avg |           1 |        1 |          1 |        45 |\n"
     ]
    }
   ],
   "source": [
    "knn_score = evaluate_model(nn_model, x_train, x_test, y_train, y_test)"
   ]
  },
  {
   "cell_type": "code",
   "execution_count": 46,
   "id": "92b36775",
   "metadata": {
    "execution": {
     "iopub.execute_input": "2025-07-28T01:06:56.184858Z",
     "iopub.status.busy": "2025-07-28T01:06:56.184328Z",
     "iopub.status.idle": "2025-07-28T01:06:56.198314Z",
     "shell.execute_reply": "2025-07-28T01:06:56.197437Z"
    },
    "papermill": {
     "duration": 0.03929,
     "end_time": "2025-07-28T01:06:56.199697",
     "exception": false,
     "start_time": "2025-07-28T01:06:56.160407",
     "status": "completed"
    },
    "tags": []
   },
   "outputs": [
    {
     "data": {
      "text/html": [
       "<div>\n",
       "<style scoped>\n",
       "    .dataframe tbody tr th:only-of-type {\n",
       "        vertical-align: middle;\n",
       "    }\n",
       "\n",
       "    .dataframe tbody tr th {\n",
       "        vertical-align: top;\n",
       "    }\n",
       "\n",
       "    .dataframe thead th {\n",
       "        text-align: right;\n",
       "    }\n",
       "</style>\n",
       "<table border=\"1\" class=\"dataframe\">\n",
       "  <thead>\n",
       "    <tr style=\"text-align: right;\">\n",
       "      <th></th>\n",
       "      <th>Logistic regression</th>\n",
       "      <th>Decision Tree</th>\n",
       "      <th>Random Forest</th>\n",
       "      <th>SVM</th>\n",
       "      <th>XGB</th>\n",
       "      <th>Naive Bayes</th>\n",
       "      <th>Neural Network</th>\n",
       "      <th>KNN</th>\n",
       "    </tr>\n",
       "  </thead>\n",
       "  <tbody>\n",
       "    <tr>\n",
       "      <th>Precision Train</th>\n",
       "      <td>0.962826</td>\n",
       "      <td>1.000000</td>\n",
       "      <td>1.0</td>\n",
       "      <td>0.965621</td>\n",
       "      <td>1.0</td>\n",
       "      <td>0.962826</td>\n",
       "      <td>0.962826</td>\n",
       "      <td>0.962826</td>\n",
       "    </tr>\n",
       "    <tr>\n",
       "      <th>Precision Test</th>\n",
       "      <td>1.000000</td>\n",
       "      <td>0.979365</td>\n",
       "      <td>1.0</td>\n",
       "      <td>0.979365</td>\n",
       "      <td>1.0</td>\n",
       "      <td>1.000000</td>\n",
       "      <td>1.000000</td>\n",
       "      <td>1.000000</td>\n",
       "    </tr>\n",
       "    <tr>\n",
       "      <th>Recall Train</th>\n",
       "      <td>0.961905</td>\n",
       "      <td>1.000000</td>\n",
       "      <td>1.0</td>\n",
       "      <td>0.961905</td>\n",
       "      <td>1.0</td>\n",
       "      <td>0.961905</td>\n",
       "      <td>0.961905</td>\n",
       "      <td>0.961905</td>\n",
       "    </tr>\n",
       "    <tr>\n",
       "      <th>Recall Test</th>\n",
       "      <td>1.000000</td>\n",
       "      <td>0.977778</td>\n",
       "      <td>1.0</td>\n",
       "      <td>0.977778</td>\n",
       "      <td>1.0</td>\n",
       "      <td>1.000000</td>\n",
       "      <td>1.000000</td>\n",
       "      <td>1.000000</td>\n",
       "    </tr>\n",
       "    <tr>\n",
       "      <th>Accuracy Train</th>\n",
       "      <td>0.961905</td>\n",
       "      <td>1.000000</td>\n",
       "      <td>1.0</td>\n",
       "      <td>0.961905</td>\n",
       "      <td>1.0</td>\n",
       "      <td>0.961905</td>\n",
       "      <td>0.961905</td>\n",
       "      <td>0.961905</td>\n",
       "    </tr>\n",
       "    <tr>\n",
       "      <th>Accuracy Test</th>\n",
       "      <td>1.000000</td>\n",
       "      <td>0.977778</td>\n",
       "      <td>1.0</td>\n",
       "      <td>0.977778</td>\n",
       "      <td>1.0</td>\n",
       "      <td>1.000000</td>\n",
       "      <td>1.000000</td>\n",
       "      <td>1.000000</td>\n",
       "    </tr>\n",
       "    <tr>\n",
       "      <th>F1 macro Train</th>\n",
       "      <td>0.961877</td>\n",
       "      <td>1.000000</td>\n",
       "      <td>1.0</td>\n",
       "      <td>0.961793</td>\n",
       "      <td>1.0</td>\n",
       "      <td>0.961877</td>\n",
       "      <td>0.961877</td>\n",
       "      <td>0.961877</td>\n",
       "    </tr>\n",
       "    <tr>\n",
       "      <th>F1 macro Test</th>\n",
       "      <td>1.000000</td>\n",
       "      <td>0.977745</td>\n",
       "      <td>1.0</td>\n",
       "      <td>0.977745</td>\n",
       "      <td>1.0</td>\n",
       "      <td>1.000000</td>\n",
       "      <td>1.000000</td>\n",
       "      <td>1.000000</td>\n",
       "    </tr>\n",
       "  </tbody>\n",
       "</table>\n",
       "</div>"
      ],
      "text/plain": [
       "                 Logistic regression  Decision Tree  Random Forest       SVM  \\\n",
       "Precision Train             0.962826       1.000000            1.0  0.965621   \n",
       "Precision Test              1.000000       0.979365            1.0  0.979365   \n",
       "Recall Train                0.961905       1.000000            1.0  0.961905   \n",
       "Recall Test                 1.000000       0.977778            1.0  0.977778   \n",
       "Accuracy Train              0.961905       1.000000            1.0  0.961905   \n",
       "Accuracy Test               1.000000       0.977778            1.0  0.977778   \n",
       "F1 macro Train              0.961877       1.000000            1.0  0.961793   \n",
       "F1 macro Test               1.000000       0.977745            1.0  0.977745   \n",
       "\n",
       "                 XGB  Naive Bayes  Neural Network       KNN  \n",
       "Precision Train  1.0     0.962826        0.962826  0.962826  \n",
       "Precision Test   1.0     1.000000        1.000000  1.000000  \n",
       "Recall Train     1.0     0.961905        0.961905  0.961905  \n",
       "Recall Test      1.0     1.000000        1.000000  1.000000  \n",
       "Accuracy Train   1.0     0.961905        0.961905  0.961905  \n",
       "Accuracy Test    1.0     1.000000        1.000000  1.000000  \n",
       "F1 macro Train   1.0     0.961877        0.961877  0.961877  \n",
       "F1 macro Test    1.0     1.000000        1.000000  1.000000  "
      ]
     },
     "execution_count": 46,
     "metadata": {},
     "output_type": "execute_result"
    }
   ],
   "source": [
    "score['KNN'] = knn_score\n",
    "score"
   ]
  },
  {
   "cell_type": "markdown",
   "id": "a9f89dac",
   "metadata": {
    "papermill": {
     "duration": 0.023585,
     "end_time": "2025-07-28T01:06:56.247290",
     "exception": false,
     "start_time": "2025-07-28T01:06:56.223705",
     "status": "completed"
    },
    "tags": []
   },
   "source": [
    "**Observations:**\n",
    "* Perfect test performance (100% on all metrics) indicates flawless generalization to unseen data.\n",
    "* Slightly lower training metrics (~96%) suggest mild underfitting, which is preferable to overfitting for this particular dataset."
   ]
  },
  {
   "cell_type": "markdown",
   "id": "ad67a24b",
   "metadata": {
    "papermill": {
     "duration": 0.022673,
     "end_time": "2025-07-28T01:06:56.293082",
     "exception": false,
     "start_time": "2025-07-28T01:06:56.270409",
     "status": "completed"
    },
    "tags": []
   },
   "source": [
    "### **Selecting the Best Model**"
   ]
  },
  {
   "cell_type": "code",
   "execution_count": 47,
   "id": "2826c28e",
   "metadata": {
    "execution": {
     "iopub.execute_input": "2025-07-28T01:06:56.340476Z",
     "iopub.status.busy": "2025-07-28T01:06:56.340182Z",
     "iopub.status.idle": "2025-07-28T01:06:56.353946Z",
     "shell.execute_reply": "2025-07-28T01:06:56.353100Z"
    },
    "papermill": {
     "duration": 0.039198,
     "end_time": "2025-07-28T01:06:56.355312",
     "exception": false,
     "start_time": "2025-07-28T01:06:56.316114",
     "status": "completed"
    },
    "tags": []
   },
   "outputs": [
    {
     "data": {
      "text/html": [
       "<div>\n",
       "<style scoped>\n",
       "    .dataframe tbody tr th:only-of-type {\n",
       "        vertical-align: middle;\n",
       "    }\n",
       "\n",
       "    .dataframe tbody tr th {\n",
       "        vertical-align: top;\n",
       "    }\n",
       "\n",
       "    .dataframe thead th {\n",
       "        text-align: right;\n",
       "    }\n",
       "</style>\n",
       "<table border=\"1\" class=\"dataframe\">\n",
       "  <thead>\n",
       "    <tr style=\"text-align: right;\">\n",
       "      <th></th>\n",
       "      <th>Precision Train</th>\n",
       "      <th>Precision Test</th>\n",
       "      <th>Recall Train</th>\n",
       "      <th>Recall Test</th>\n",
       "      <th>Accuracy Train</th>\n",
       "      <th>Accuracy Test</th>\n",
       "      <th>F1 macro Train</th>\n",
       "      <th>F1 macro Test</th>\n",
       "    </tr>\n",
       "  </thead>\n",
       "  <tbody>\n",
       "    <tr>\n",
       "      <th>Logistic regression</th>\n",
       "      <td>0.962826</td>\n",
       "      <td>1.000000</td>\n",
       "      <td>0.961905</td>\n",
       "      <td>1.000000</td>\n",
       "      <td>0.961905</td>\n",
       "      <td>1.000000</td>\n",
       "      <td>0.961877</td>\n",
       "      <td>1.000000</td>\n",
       "    </tr>\n",
       "    <tr>\n",
       "      <th>SVM</th>\n",
       "      <td>0.965621</td>\n",
       "      <td>0.979365</td>\n",
       "      <td>0.961905</td>\n",
       "      <td>0.977778</td>\n",
       "      <td>0.961905</td>\n",
       "      <td>0.977778</td>\n",
       "      <td>0.961793</td>\n",
       "      <td>0.977745</td>\n",
       "    </tr>\n",
       "    <tr>\n",
       "      <th>Naive Bayes</th>\n",
       "      <td>0.962826</td>\n",
       "      <td>1.000000</td>\n",
       "      <td>0.961905</td>\n",
       "      <td>1.000000</td>\n",
       "      <td>0.961905</td>\n",
       "      <td>1.000000</td>\n",
       "      <td>0.961877</td>\n",
       "      <td>1.000000</td>\n",
       "    </tr>\n",
       "    <tr>\n",
       "      <th>Neural Network</th>\n",
       "      <td>0.962826</td>\n",
       "      <td>1.000000</td>\n",
       "      <td>0.961905</td>\n",
       "      <td>1.000000</td>\n",
       "      <td>0.961905</td>\n",
       "      <td>1.000000</td>\n",
       "      <td>0.961877</td>\n",
       "      <td>1.000000</td>\n",
       "    </tr>\n",
       "    <tr>\n",
       "      <th>KNN</th>\n",
       "      <td>0.962826</td>\n",
       "      <td>1.000000</td>\n",
       "      <td>0.961905</td>\n",
       "      <td>1.000000</td>\n",
       "      <td>0.961905</td>\n",
       "      <td>1.000000</td>\n",
       "      <td>0.961877</td>\n",
       "      <td>1.000000</td>\n",
       "    </tr>\n",
       "  </tbody>\n",
       "</table>\n",
       "</div>"
      ],
      "text/plain": [
       "                     Precision Train  Precision Test  Recall Train  \\\n",
       "Logistic regression         0.962826        1.000000      0.961905   \n",
       "SVM                         0.965621        0.979365      0.961905   \n",
       "Naive Bayes                 0.962826        1.000000      0.961905   \n",
       "Neural Network              0.962826        1.000000      0.961905   \n",
       "KNN                         0.962826        1.000000      0.961905   \n",
       "\n",
       "                     Recall Test  Accuracy Train  Accuracy Test  \\\n",
       "Logistic regression     1.000000        0.961905       1.000000   \n",
       "SVM                     0.977778        0.961905       0.977778   \n",
       "Naive Bayes             1.000000        0.961905       1.000000   \n",
       "Neural Network          1.000000        0.961905       1.000000   \n",
       "KNN                     1.000000        0.961905       1.000000   \n",
       "\n",
       "                     F1 macro Train  F1 macro Test  \n",
       "Logistic regression        0.961877       1.000000  \n",
       "SVM                        0.961793       0.977745  \n",
       "Naive Bayes                0.961877       1.000000  \n",
       "Neural Network             0.961877       1.000000  \n",
       "KNN                        0.961877       1.000000  "
      ]
     },
     "execution_count": 47,
     "metadata": {},
     "output_type": "execute_result"
    }
   ],
   "source": [
    "# Removing the overfitted models which have precision, recall, f1 scores for train as 1\n",
    "score_t = score.transpose()            # taking transpose of the score dataframe to create new difference column\n",
    "remove_models = score_t[score_t['Recall Train']>=0.98].index  # creating a list of models which have 1 for train and score_t['Accuracy Train']==1.0 and score_t['Precision Train']==1.0 and score_t['F1 macro Train']==1.0\n",
    "remove_models\n",
    "\n",
    "adj = score_t.drop(remove_models)                     # creating a new dataframe with required models\n",
    "adj"
   ]
  },
  {
   "cell_type": "code",
   "execution_count": 48,
   "id": "4698352e",
   "metadata": {
    "execution": {
     "iopub.execute_input": "2025-07-28T01:06:56.403191Z",
     "iopub.status.busy": "2025-07-28T01:06:56.402913Z",
     "iopub.status.idle": "2025-07-28T01:06:56.407449Z",
     "shell.execute_reply": "2025-07-28T01:06:56.406781Z"
    },
    "papermill": {
     "duration": 0.029992,
     "end_time": "2025-07-28T01:06:56.408751",
     "exception": false,
     "start_time": "2025-07-28T01:06:56.378759",
     "status": "completed"
    },
    "tags": []
   },
   "outputs": [],
   "source": [
    "def select_best_model(df, metrics):\n",
    "\n",
    "    best_models = {}\n",
    "    for metric in metrics:\n",
    "        max_test = df[metric + ' Test'].max()\n",
    "        best_model_test = df[df[metric + ' Test'] == max_test].index[0]\n",
    "        best_model = best_model_test\n",
    "        best_models[metric] = best_model\n",
    "    return best_models"
   ]
  },
  {
   "cell_type": "code",
   "execution_count": 49,
   "id": "e7338f81",
   "metadata": {
    "execution": {
     "iopub.execute_input": "2025-07-28T01:06:56.457547Z",
     "iopub.status.busy": "2025-07-28T01:06:56.457239Z",
     "iopub.status.idle": "2025-07-28T01:06:56.464572Z",
     "shell.execute_reply": "2025-07-28T01:06:56.463681Z"
    },
    "papermill": {
     "duration": 0.033251,
     "end_time": "2025-07-28T01:06:56.466108",
     "exception": false,
     "start_time": "2025-07-28T01:06:56.432857",
     "status": "completed"
    },
    "tags": []
   },
   "outputs": [
    {
     "name": "stdout",
     "output_type": "stream",
     "text": [
      "The best model(s) is:\n",
      "Precision: Logistic regression - 1.0\n",
      "Recall: Logistic regression - 1.0\n",
      "Accuracy: Logistic regression - 1.0\n",
      "F1 macro: Logistic regression - 1.0\n"
     ]
    }
   ],
   "source": [
    "metrics = ['Precision', 'Recall', 'Accuracy', 'F1 macro']\n",
    "\n",
    "best_models = select_best_model(adj, metrics)\n",
    "print(\"The best model(s) is:\")\n",
    "for metric, best_model in best_models.items():\n",
    "    print(f\"{metric}: {best_model} - {adj[metric+' Test'][best_model].round(4)}\")"
   ]
  },
  {
   "cell_type": "markdown",
   "id": "512585af",
   "metadata": {
    "papermill": {
     "duration": 0.024051,
     "end_time": "2025-07-28T01:06:56.513857",
     "exception": false,
     "start_time": "2025-07-28T01:06:56.489806",
     "status": "completed"
    },
    "tags": []
   },
   "source": [
    "---"
   ]
  },
  {
   "cell_type": "markdown",
   "id": "3c4906a3",
   "metadata": {
    "papermill": {
     "duration": 0.023341,
     "end_time": "2025-07-28T01:06:56.560565",
     "exception": false,
     "start_time": "2025-07-28T01:06:56.537224",
     "status": "completed"
    },
    "tags": []
   },
   "source": [
    "# Final Report\n",
    "\n",
    "## Key Findings\n",
    "\n",
    "### Model Performance Summary\n",
    "| Model              | Train Accuracy | Test Accuracy | Overfitting Detected |\n",
    "|--------------------|----------------|---------------|----------------------|\n",
    "| Logistic Regression| 96.2%          | 100%          | No                   |\n",
    "| Decision Tree      | 100%           | 97.8%         | Yes (mild)           |\n",
    "| Random Forest      | 100%           | 100%          | No                   |\n",
    "| SVM                | 96.2%          | 97.8%         | No                   |\n",
    "| XGBoost            | 100%           | 100%          | No                   |\n",
    "| Naive Bayes        | 96.2%          | 100%          | No                   |\n",
    "| Neural Network     | 96.2%          | 100%          | No                   |\n",
    "| KNN                | 96.2%          | 100%          | No                   |\n",
    "\n",
    "### Feature Engineering Success\n",
    "The engineered ratio features proved effective:\n",
    "- **Perfect separation** achieved by 5/8 models\n",
    "- **Most discriminative ratios**:\n",
    "  - `petal_to_sepal_length` (Virginica identification)\n",
    "  - `petal_to_sepal_width` (Setosa identification)\n",
    "  - `length_to_width_ratio` (Versicolor identification)\n",
    "\n",
    "## Biological Interpretation\n",
    "The ratios captured fundamental species characteristics:\n",
    "\n",
    "| Species       | Key Ratio                | Typical Value Range |\n",
    "|---------------|--------------------------|---------------------|\n",
    "| Iris-setosa   | petal_to_sepal_width     | 0.1-0.2             |\n",
    "| Iris-versicolor | length_to_width_ratio  | 4.0-5.0             |\n",
    "| Iris-virginica | petal_to_sepal_length  | 0.7-0.9             |\n",
    "\n",
    "## Recommendations\n",
    "\n",
    "### For Production Deployment\n",
    "```python\n",
    "# Optimal model choice\n",
    "from sklearn.linear_model import LogisticRegression\n",
    "production_model = LogisticRegression().fit(X, y)"
   ]
  }
 ],
 "metadata": {
  "kaggle": {
   "accelerator": "none",
   "dataSources": [
    {
     "datasetId": 17860,
     "sourceId": 23404,
     "sourceType": "datasetVersion"
    }
   ],
   "dockerImageVersionId": 31089,
   "isGpuEnabled": false,
   "isInternetEnabled": true,
   "language": "python",
   "sourceType": "notebook"
  },
  "kernelspec": {
   "display_name": "Python 3",
   "language": "python",
   "name": "python3"
  },
  "language_info": {
   "codemirror_mode": {
    "name": "ipython",
    "version": 3
   },
   "file_extension": ".py",
   "mimetype": "text/x-python",
   "name": "python",
   "nbconvert_exporter": "python",
   "pygments_lexer": "ipython3",
   "version": "3.11.13"
  },
  "papermill": {
   "default_parameters": {},
   "duration": 20.426513,
   "end_time": "2025-07-28T01:06:57.304945",
   "environment_variables": {},
   "exception": null,
   "input_path": "__notebook__.ipynb",
   "output_path": "__notebook__.ipynb",
   "parameters": {},
   "start_time": "2025-07-28T01:06:36.878432",
   "version": "2.6.0"
  }
 },
 "nbformat": 4,
 "nbformat_minor": 5
}
